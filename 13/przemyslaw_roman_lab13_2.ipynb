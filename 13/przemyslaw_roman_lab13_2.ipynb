{
 "cells": [
  {
   "cell_type": "markdown",
   "source": [
    "https://github.com/Qiskit/textbook/blob/main/notebooks/ch-algorithms/quantum-key-distribution.ipynb"
   ],
   "metadata": {
    "collapsed": false
   },
   "id": "910daee9b35adbdf"
  },
  {
   "cell_type": "code",
   "outputs": [],
   "source": [
    "from qiskit import QuantumCircuit, transpile\n",
    "from qiskit.visualization import plot_histogram, plot_bloch_multivector\n",
    "from numpy.random import randint\n",
    "import numpy as np\n",
    "from qiskit_aer import AerSimulator"
   ],
   "metadata": {
    "collapsed": false,
    "is_executing": true
   },
   "id": "baeba19646bc0e31",
   "execution_count": null
  },
  {
   "cell_type": "markdown",
   "source": [
    "## Zad 1. Kwantowa dystrybucja klucza bez zewnętrznej ingerencji"
   ],
   "metadata": {
    "collapsed": false
   },
   "id": "c28597f80d9efefb"
  },
  {
   "cell_type": "code",
   "outputs": [],
   "source": [
    "np.random.seed(seed=0)\n",
    "n = 100"
   ],
   "metadata": {
    "collapsed": false,
    "ExecuteTime": {
     "end_time": "2024-06-01T17:20:24.240915Z",
     "start_time": "2024-06-01T17:20:24.236367Z"
    }
   },
   "id": "6b7c0a8520324261",
   "execution_count": 2
  },
  {
   "cell_type": "markdown",
   "source": [
    "#### 1. Alice generuje ciąg losowych bitów"
   ],
   "metadata": {
    "collapsed": false
   },
   "id": "3fd4552b6ccf145b"
  },
  {
   "cell_type": "code",
   "execution_count": 3,
   "id": "initial_id",
   "metadata": {
    "collapsed": true,
    "ExecuteTime": {
     "end_time": "2024-06-01T17:20:24.250402Z",
     "start_time": "2024-06-01T17:20:24.242908Z"
    }
   },
   "outputs": [
    {
     "name": "stdout",
     "output_type": "stream",
     "text": [
      "[0 1 1 0 1 1 1 1 1 1 1 0 0 1 0 0 0 0 0 1 0 1 1 0 0 1 1 1 1 0 1 0 1 0 1 1 0\n",
      " 1 1 0 0 1 0 1 1 1 1 1 0 1 0 1 1 1 1 0 1 0 0 1 1 0 1 0 1 0 0 0 0 0 1 1 0 0\n",
      " 0 1 1 0 1 0 0 1 0 1 1 1 1 1 1 0 1 1 0 0 1 0 0 1 1 0]\n"
     ]
    }
   ],
   "source": [
    "## Step 1\n",
    "# Alice generates bits\n",
    "alice_bits = randint(2, size=n)\n",
    "print(alice_bits)"
   ]
  },
  {
   "cell_type": "markdown",
   "source": [
    "#### 2. Alice koduje każdy bit w bazie X albo Z"
   ],
   "metadata": {
    "collapsed": false
   },
   "id": "5c5d9cb25279b068"
  },
  {
   "cell_type": "code",
   "outputs": [
    {
     "name": "stdout",
     "output_type": "stream",
     "text": [
      "[1 0 0 1 0 0 0 1 1 0 1 0 0 0 0 0 1 0 1 0 1 1 1 1 1 0 1 1 1 1 0 1 1 0 0 1 0\n",
      " 0 0 0 1 1 0 0 1 0 1 1 1 1 0 0 0 1 0 1 1 1 0 1 0 0 1 0 1 1 0 0 1 0 1 0 1 0\n",
      " 1 0 1 0 0 0 1 0 1 0 1 0 0 0 0 0 1 0 0 1 0 0 0 1 0 0]\n"
     ]
    }
   ],
   "source": [
    "## Step 2\n",
    "# Create an array to tell us which qubits\n",
    "# are encoded in which bases\n",
    "# 0 - Z\n",
    "# 1 - X\n",
    "def encode_message(bits, bases):\n",
    "    message = []\n",
    "    for i in range(n):\n",
    "        qc = QuantumCircuit(1,1)\n",
    "        if bases[i] == 0: # Prepare qubit in Z-basis\n",
    "            if bits[i] == 0:\n",
    "                pass # |0>\n",
    "            else:\n",
    "                qc.x(0) # |1>\n",
    "        else: # Prepare qubit in X-basis\n",
    "            if bits[i] == 0:\n",
    "                qc.h(0) # H|0> = |->\n",
    "            else:\n",
    "                qc.x(0) \n",
    "                qc.h(0) # H|1> = |+>\n",
    "        qc.barrier()\n",
    "        message.append(qc)\n",
    "    return message\n",
    "\n",
    "\n",
    "alice_bases = randint(2, size=n)\n",
    "print(alice_bases)\n",
    "message = encode_message(alice_bits, alice_bases)"
   ],
   "metadata": {
    "collapsed": false,
    "ExecuteTime": {
     "end_time": "2024-06-01T17:20:24.269619Z",
     "start_time": "2024-06-01T17:20:24.252397Z"
    }
   },
   "id": "31c94e0e0ba31854",
   "execution_count": 4
  },
  {
   "cell_type": "markdown",
   "source": [
    "### 3. Bob dokonuje pomiarów w bazie X albo Z wybierając losowo"
   ],
   "metadata": {
    "collapsed": false
   },
   "id": "f7ebc2ee8c888d6d"
  },
  {
   "cell_type": "code",
   "outputs": [
    {
     "name": "stdout",
     "output_type": "stream",
     "text": [
      "[1 0 1 0 0 1 1 0 0 0 1 1 0 0 0 0 0 1 0 1 0 0 0 1 1 1 0 0 1 1 1 1 0 0 0 1 1\n",
      " 0 1 0 0 1 0 1 1 1 1 0 0 0 1 1 1 0 1 1 1 1 0 0 1 1 0 0 0 1 1 0 1 1 1 1 1 0\n",
      " 0 0 1 0 1 0 1 1 0 0 0 1 0 0 1 1 1 1 0 1 0 0 0 0 1 1]\n",
      "[0, 1, 1, 1, 1, 1, 1, 0, 0, 1, 1, 1, 0, 1, 0, 0, 1, 0, 1, 1, 1, 1, 0, 0, 0, 0, 1, 0, 1, 0, 0, 0, 1, 0, 1, 1, 0, 1, 0, 0, 0, 1, 0, 1, 1, 0, 1, 1, 0, 0, 0, 1, 1, 1, 0, 0, 1, 0, 0, 0, 0, 0, 0, 0, 0, 0, 0, 0, 0, 0, 1, 0, 0, 0, 1, 1, 1, 0, 0, 0, 0, 0, 0, 1, 1, 1, 1, 1, 0, 1, 1, 1, 0, 0, 1, 0, 0, 0, 0, 0]\n"
     ]
    }
   ],
   "source": [
    "## Step 3\n",
    "# Decide which basis to measure in\n",
    "def measure_message(message, bases):\n",
    "    measurements = []\n",
    "    for q in range(n):\n",
    "        if bases[q] == 0: # measuring in Z-basis\n",
    "            message[q].measure(0,0)\n",
    "        if bases[q] == 1: # measuring in X-basis\n",
    "            message[q].h(0)\n",
    "            message[q].measure(0,0)\n",
    "        aer_sim = AerSimulator()\n",
    "        result = aer_sim.run(message[q], shots=1, memory=True).result()\n",
    "        measured_bit = int(result.get_memory()[0])\n",
    "        measurements.append(measured_bit)\n",
    "    return measurements\n",
    "\n",
    "bob_bases = randint(2, size=n)\n",
    "print(bob_bases)\n",
    "bob_results = measure_message(message, bob_bases)\n",
    "print(bob_results)"
   ],
   "metadata": {
    "collapsed": false,
    "ExecuteTime": {
     "end_time": "2024-06-01T17:20:24.368337Z",
     "start_time": "2024-06-01T17:20:24.272630Z"
    }
   },
   "id": "c4631f3c3da6e948",
   "execution_count": 5
  },
  {
   "cell_type": "markdown",
   "source": [
    "### 4. Obie strony wymieniają bazy, w których kodowały wiadomość "
   ],
   "metadata": {
    "collapsed": false
   },
   "id": "82c07b0ec7342c7c"
  },
  {
   "cell_type": "code",
   "outputs": [
    {
     "name": "stdout",
     "output_type": "stream",
     "text": [
      "[0, 1, 1, 1, 1, 0, 1, 0, 0, 0, 0, 1, 0, 0, 0, 1, 1, 1, 0, 1, 0, 1, 1, 0, 1, 0, 0, 0, 0, 0, 0, 1, 0, 0, 1, 1, 0, 0, 0, 1, 1, 1, 1, 0, 0, 1, 0, 0]\n"
     ]
    }
   ],
   "source": [
    "## Step 4\n",
    "# If Bob happened to measure a bit in the same basis Alice prepared it in, this means the entry in bob_results will match the corresponding entry in alice_bits, and they can use that bit as part of their key\n",
    "# Otherwise the bit is discarded\n",
    "def remove_garbage(a_bases, b_bases, bits):\n",
    "    good_bits = []\n",
    "    for q in range(n):\n",
    "        if a_bases[q] == b_bases[q]:\n",
    "            good_bits.append(bits[q])\n",
    "    return good_bits\n",
    "\n",
    "\n",
    "alice_key = remove_garbage(alice_bases, bob_bases, alice_bits)\n",
    "bob_key = remove_garbage(alice_bases, bob_bases, bob_results)\n",
    "print(bob_key)"
   ],
   "metadata": {
    "collapsed": false,
    "ExecuteTime": {
     "end_time": "2024-06-01T17:20:24.375979Z",
     "start_time": "2024-06-01T17:20:24.369340Z"
    }
   },
   "id": "153d9bf7c99508f1",
   "execution_count": 6
  },
  {
   "cell_type": "markdown",
   "source": [
    "### 5. Porównanie losowych bitów kluczy obu stron w celu weryfikacji poprawności wymiany"
   ],
   "metadata": {
    "collapsed": false
   },
   "id": "e45100379baa9353"
  },
  {
   "cell_type": "code",
   "outputs": [
    {
     "name": "stdout",
     "output_type": "stream",
     "text": [
      "  bob_sample = [0, 1, 0, 1, 1, 0, 0, 0, 0, 0, 0, 1, 0, 0, 0]\n",
      "alice_sample = [0, 1, 0, 1, 1, 0, 0, 0, 0, 0, 0, 1, 0, 0, 0]\n",
      "       equal = True\n"
     ]
    }
   ],
   "source": [
    "def sample_bits(bits, selection):\n",
    "    sample = []\n",
    "    for i in selection:\n",
    "        # use np.mod to make sure the\n",
    "        # bit we sample is always in \n",
    "        # the list range\n",
    "        i = np.mod(i, len(bits))\n",
    "        # pop(i) removes the element of the\n",
    "        # list at index 'i'\n",
    "        sample.append(bits.pop(i))\n",
    "    return sample\n",
    "\n",
    "\n",
    "sample_size = 15\n",
    "bit_selection = randint(n, size=sample_size)\n",
    "bob_sample = sample_bits(bob_key, bit_selection)\n",
    "print(\"  bob_sample = \" + str(bob_sample))\n",
    "alice_sample = sample_bits(alice_key, bit_selection)\n",
    "print(\"alice_sample = \"+ str(alice_sample))\n",
    "print(f\"       equal = {bob_sample == alice_sample}\")"
   ],
   "metadata": {
    "collapsed": false,
    "ExecuteTime": {
     "end_time": "2024-06-01T17:20:24.384665Z",
     "start_time": "2024-06-01T17:20:24.377978Z"
    }
   },
   "id": "b0fba82463a71efd",
   "execution_count": 7
  },
  {
   "cell_type": "markdown",
   "source": [
    "## Zad 2. Kwantowa dystrybucja klucza z zewnętrzną ingerencją"
   ],
   "metadata": {
    "collapsed": false
   },
   "id": "104ad9e02f5345b9"
  },
  {
   "cell_type": "markdown",
   "source": [
    "### 1-2. Jak poprzednio"
   ],
   "metadata": {
    "collapsed": false
   },
   "id": "c3f0de994c8e355b"
  },
  {
   "cell_type": "code",
   "outputs": [],
   "source": [
    "np.random.seed(seed=3)\n",
    "## Step 1\n",
    "alice_bits = randint(2, size=n)\n",
    "## Step 2\n",
    "alice_bases = randint(2, size=n)\n",
    "message = encode_message(alice_bits, alice_bases)"
   ],
   "metadata": {
    "collapsed": false,
    "ExecuteTime": {
     "end_time": "2024-06-01T17:20:24.401439Z",
     "start_time": "2024-06-01T17:20:24.386667Z"
    }
   },
   "id": "5d77e31f4fcdac54",
   "execution_count": 8
  },
  {
   "cell_type": "markdown",
   "source": [
    "### 2'. Przechwycenie wiadomości przez Eve"
   ],
   "metadata": {
    "collapsed": false
   },
   "id": "c1552e54d3feef37"
  },
  {
   "cell_type": "code",
   "outputs": [
    {
     "name": "stdout",
     "output_type": "stream",
     "text": [
      "[0, 0, 0, 0, 0, 0, 0, 1, 1, 1, 1, 1, 1, 1, 0, 1, 1, 0, 0, 0, 0, 1, 1, 0, 0, 1, 1, 0, 1, 0, 0, 1, 0, 1, 1, 0, 0, 0, 0, 1, 1, 0, 1, 1, 1, 0, 0, 1, 1, 1, 1, 1, 1, 0, 0, 1, 0, 1, 0, 0, 0, 0, 1, 1, 0, 1, 0, 0, 1, 1, 0, 0, 1, 1, 1, 1, 1, 1, 1, 0, 1, 1, 0, 0, 0, 0, 0, 1, 0, 0, 0, 0, 1, 0, 1, 1, 1, 1, 1, 1]\n"
     ]
    }
   ],
   "source": [
    "## Interception!!\n",
    "eve_bases = randint(2, size=n)\n",
    "intercepted_message = measure_message(message, eve_bases)\n",
    "print(intercepted_message)"
   ],
   "metadata": {
    "collapsed": false,
    "ExecuteTime": {
     "end_time": "2024-06-01T17:20:24.535495Z",
     "start_time": "2024-06-01T17:20:24.403441Z"
    }
   },
   "id": "241c28e96e114412",
   "execution_count": 9
  },
  {
   "cell_type": "markdown",
   "source": [
    "### 3. Jak poprzednio, różnica w prawdopodobieństwie wyników"
   ],
   "metadata": {
    "collapsed": false
   },
   "id": "c016686562259da"
  },
  {
   "cell_type": "code",
   "outputs": [],
   "source": [
    "## Step 3\n",
    "# Without interception, Bob would be guaranteed to measure 0, but because Eve tried to read the message he now has a 50% chance of measuring 1 instead.\n",
    "bob_bases = randint(2, size=n)\n",
    "bob_results = measure_message(message, bob_bases)"
   ],
   "metadata": {
    "collapsed": false,
    "ExecuteTime": {
     "end_time": "2024-06-01T17:20:24.639591Z",
     "start_time": "2024-06-01T17:20:24.537493Z"
    }
   },
   "id": "c9fea505eb8a6f45",
   "execution_count": 10
  },
  {
   "cell_type": "markdown",
   "source": [
    "### 4. Jak poprzednio"
   ],
   "metadata": {
    "collapsed": false
   },
   "id": "e0f4669446f36eef"
  },
  {
   "cell_type": "code",
   "outputs": [],
   "source": [
    "## Step 4\n",
    "bob_key = remove_garbage(alice_bases, bob_bases, bob_results)\n",
    "alice_key = remove_garbage(alice_bases, bob_bases, alice_bits)"
   ],
   "metadata": {
    "collapsed": false,
    "ExecuteTime": {
     "end_time": "2024-06-01T17:20:24.649599Z",
     "start_time": "2024-06-01T17:20:24.641577Z"
    }
   },
   "id": "4918ca21a55bfd1c",
   "execution_count": 11
  },
  {
   "cell_type": "markdown",
   "source": [
    "### 5. Jak poprzednio, prawdopodobna różnica w kluczach Alice oraz Boba"
   ],
   "metadata": {
    "collapsed": false
   },
   "id": "e7d4267528dbeb94"
  },
  {
   "cell_type": "code",
   "outputs": [
    {
     "name": "stdout",
     "output_type": "stream",
     "text": [
      "  bob_sample = [1, 1, 0, 0, 0, 1, 0, 0, 0, 0, 0, 1, 0, 1, 1]\n",
      "alice_sample = [1, 1, 0, 0, 1, 0, 0, 0, 0, 0, 0, 1, 0, 0, 0]\n",
      "       equal = False\n"
     ]
    }
   ],
   "source": [
    "sample_size = 15\n",
    "bit_selection = randint(n, size=sample_size)\n",
    "bob_sample = sample_bits(bob_key, bit_selection)\n",
    "print(\"  bob_sample = \" + str(bob_sample))\n",
    "alice_sample = sample_bits(alice_key, bit_selection)\n",
    "print(\"alice_sample = \"+ str(alice_sample))\n",
    "print(f\"       equal = {bob_sample == alice_sample}\")"
   ],
   "metadata": {
    "collapsed": false,
    "ExecuteTime": {
     "end_time": "2024-06-01T17:20:24.660098Z",
     "start_time": "2024-06-01T17:20:24.651591Z"
    }
   },
   "id": "6222448192cf0577",
   "execution_count": 12
  },
  {
   "cell_type": "markdown",
   "source": [
    "### Prawdopodobieństwo niewykrycia podsłuchania\n",
    "$$ P(undetected) = 0.75^{sample\\_size} $$\n",
    "Pojawia się tutaj pewien tradeoff: im więcej bitów wymienimy tym mniejsza szansa niezauważonego podsłuchania, z drugiej strony im więcej wymieniamy tym łatwiej zgadnąć klucz podsłuchującemu"
   ],
   "metadata": {
    "collapsed": false
   },
   "id": "2c4f4950f942ae8"
  }
 ],
 "metadata": {
  "kernelspec": {
   "display_name": "Python 3",
   "language": "python",
   "name": "python3"
  },
  "language_info": {
   "codemirror_mode": {
    "name": "ipython",
    "version": 2
   },
   "file_extension": ".py",
   "mimetype": "text/x-python",
   "name": "python",
   "nbconvert_exporter": "python",
   "pygments_lexer": "ipython2",
   "version": "2.7.6"
  }
 },
 "nbformat": 4,
 "nbformat_minor": 5
}
