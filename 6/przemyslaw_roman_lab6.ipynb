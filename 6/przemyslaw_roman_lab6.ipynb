{
 "cells": [
  {
   "cell_type": "code",
   "outputs": [],
   "source": [
    "import warnings\n",
    "warnings.filterwarnings(\"ignore\")\n",
    "from qiskit import QuantumCircuit, ClassicalRegister, QuantumRegister\n",
    "from qiskit.quantum_info import Statevector\n",
    "from qiskit.visualization import plot_histogram"
   ],
   "metadata": {
    "collapsed": false,
    "ExecuteTime": {
     "end_time": "2024-04-17T09:23:13.203002Z",
     "start_time": "2024-04-17T09:23:12.346858Z"
    }
   },
   "id": "6319fe3a6815dd69",
   "execution_count": 1
  },
  {
   "cell_type": "markdown",
   "source": [
    "## Zadanie 1\n",
    "Zaimplementuj kwantowe rozwiązanie podstawowego problemu Deutcha dla jedno-qbitowej funkcji na wybranym symulatorze"
   ],
   "metadata": {
    "collapsed": false
   },
   "id": "85d73c5f599932f0"
  },
  {
   "cell_type": "markdown",
   "source": [
    "Mamy daną jedną z czterech funkcji z tabelki 2, ale nie wiemy którą. \n",
    "Chcemy sprawdzić, czy jest ona stała czy zmienna. Ile razy musimy uruchomić tę funkcję, żeby to sprawdzić?"
   ],
   "metadata": {
    "collapsed": false
   },
   "id": "28e364ce5f0e209"
  },
  {
   "cell_type": "markdown",
   "source": [
    "![](deutch_funkcje.png)\n",
    "\n",
    "![](deutch_bramki.png)\n",
    "\n",
    "![](deutch_test.png)"
   ],
   "metadata": {
    "collapsed": false
   },
   "id": "94767f62d3f59fb6"
  },
  {
   "cell_type": "code",
   "execution_count": 2,
   "id": "initial_id",
   "metadata": {
    "collapsed": true,
    "ExecuteTime": {
     "end_time": "2024-04-17T09:23:13.211834Z",
     "start_time": "2024-04-17T09:23:13.205019Z"
    }
   },
   "outputs": [],
   "source": [
    "def f0(qc):\n",
    "    pass\n",
    "\n",
    "def f1(qc):\n",
    "    qc.cx(control_qubit=0, target_qubit=1)\n",
    "\n",
    "def f2(qc):\n",
    "    qc.x(1)\n",
    "    qc.cx(control_qubit=0, target_qubit=1)\n",
    "    \n",
    "def f3(qc):\n",
    "    qc.x(1)\n",
    "    \n",
    "def add_h_all(qc, qnumber):\n",
    "    for i in range(qnumber):\n",
    "        qc.h(i)\n",
    "    \n",
    "def create_deutch(f):\n",
    "    qnumber = 2\n",
    "    qc = QuantumCircuit(qnumber)\n",
    "    qc.initialize(\"10\")\n",
    "    add_h_all(qc, qnumber)\n",
    "    f(qc)\n",
    "    add_h_all(qc, qnumber)\n",
    "    display(qc.draw())\n",
    "    return qc\n",
    "\n",
    "def test_statevector(qc):\n",
    "    display(Statevector.from_instruction(qc).draw('latex'))"
   ]
  },
  {
   "cell_type": "code",
   "outputs": [
    {
     "data": {
      "text/plain": "     ┌──────────────────┐┌───┐┌───┐\nq_0: ┤0                 ├┤ H ├┤ H ├\n     │  Initialize(1,0) │├───┤├───┤\nq_1: ┤1                 ├┤ H ├┤ H ├\n     └──────────────────┘└───┘└───┘",
      "text/html": "<pre style=\"word-wrap: normal;white-space: pre;background: #fff0;line-height: 1.1;font-family: &quot;Courier New&quot;,Courier,monospace\">     ┌──────────────────┐┌───┐┌───┐\nq_0: ┤0                 ├┤ H ├┤ H ├\n     │  Initialize(1,0) │├───┤├───┤\nq_1: ┤1                 ├┤ H ├┤ H ├\n     └──────────────────┘└───┘└───┘</pre>"
     },
     "metadata": {},
     "output_type": "display_data"
    },
    {
     "data": {
      "text/plain": "<IPython.core.display.Latex object>",
      "text/latex": "$$ |10\\rangle$$"
     },
     "metadata": {},
     "output_type": "display_data"
    }
   ],
   "source": [
    "test_statevector(create_deutch(f0))"
   ],
   "metadata": {
    "collapsed": false,
    "ExecuteTime": {
     "end_time": "2024-04-17T09:23:13.867355Z",
     "start_time": "2024-04-17T09:23:13.213833Z"
    }
   },
   "id": "927dd4c23f4e279e",
   "execution_count": 3
  },
  {
   "cell_type": "code",
   "outputs": [
    {
     "data": {
      "text/plain": "     ┌──────────────────┐┌───┐     ┌───┐\nq_0: ┤0                 ├┤ H ├──■──┤ H ├\n     │  Initialize(1,0) │├───┤┌─┴─┐├───┤\nq_1: ┤1                 ├┤ H ├┤ X ├┤ H ├\n     └──────────────────┘└───┘└───┘└───┘",
      "text/html": "<pre style=\"word-wrap: normal;white-space: pre;background: #fff0;line-height: 1.1;font-family: &quot;Courier New&quot;,Courier,monospace\">     ┌──────────────────┐┌───┐     ┌───┐\nq_0: ┤0                 ├┤ H ├──■──┤ H ├\n     │  Initialize(1,0) │├───┤┌─┴─┐├───┤\nq_1: ┤1                 ├┤ H ├┤ X ├┤ H ├\n     └──────────────────┘└───┘└───┘└───┘</pre>"
     },
     "metadata": {},
     "output_type": "display_data"
    },
    {
     "data": {
      "text/plain": "<IPython.core.display.Latex object>",
      "text/latex": "$$ |11\\rangle$$"
     },
     "metadata": {},
     "output_type": "display_data"
    }
   ],
   "source": [
    "test_statevector(create_deutch(f1))"
   ],
   "metadata": {
    "collapsed": false,
    "ExecuteTime": {
     "end_time": "2024-04-17T09:23:13.883418Z",
     "start_time": "2024-04-17T09:23:13.868385Z"
    }
   },
   "id": "f55783b99d47f75b",
   "execution_count": 4
  },
  {
   "cell_type": "code",
   "outputs": [
    {
     "data": {
      "text/plain": "     ┌──────────────────┐┌───┐          ┌───┐\nq_0: ┤0                 ├┤ H ├───────■──┤ H ├\n     │  Initialize(1,0) │├───┤┌───┐┌─┴─┐├───┤\nq_1: ┤1                 ├┤ H ├┤ X ├┤ X ├┤ H ├\n     └──────────────────┘└───┘└───┘└───┘└───┘",
      "text/html": "<pre style=\"word-wrap: normal;white-space: pre;background: #fff0;line-height: 1.1;font-family: &quot;Courier New&quot;,Courier,monospace\">     ┌──────────────────┐┌───┐          ┌───┐\nq_0: ┤0                 ├┤ H ├───────■──┤ H ├\n     │  Initialize(1,0) │├───┤┌───┐┌─┴─┐├───┤\nq_1: ┤1                 ├┤ H ├┤ X ├┤ X ├┤ H ├\n     └──────────────────┘└───┘└───┘└───┘└───┘</pre>"
     },
     "metadata": {},
     "output_type": "display_data"
    },
    {
     "data": {
      "text/plain": "<IPython.core.display.Latex object>",
      "text/latex": "$$- |11\\rangle$$"
     },
     "metadata": {},
     "output_type": "display_data"
    }
   ],
   "source": [
    "test_statevector(create_deutch(f2))"
   ],
   "metadata": {
    "collapsed": false,
    "ExecuteTime": {
     "end_time": "2024-04-17T09:23:13.899722Z",
     "start_time": "2024-04-17T09:23:13.885434Z"
    }
   },
   "id": "4b468ce31d79af0a",
   "execution_count": 5
  },
  {
   "cell_type": "code",
   "outputs": [
    {
     "data": {
      "text/plain": "     ┌──────────────────┐┌───┐┌───┐     \nq_0: ┤0                 ├┤ H ├┤ H ├─────\n     │  Initialize(1,0) │├───┤├───┤┌───┐\nq_1: ┤1                 ├┤ H ├┤ X ├┤ H ├\n     └──────────────────┘└───┘└───┘└───┘",
      "text/html": "<pre style=\"word-wrap: normal;white-space: pre;background: #fff0;line-height: 1.1;font-family: &quot;Courier New&quot;,Courier,monospace\">     ┌──────────────────┐┌───┐┌───┐     \nq_0: ┤0                 ├┤ H ├┤ H ├─────\n     │  Initialize(1,0) │├───┤├───┤┌───┐\nq_1: ┤1                 ├┤ H ├┤ X ├┤ H ├\n     └──────────────────┘└───┘└───┘└───┘</pre>"
     },
     "metadata": {},
     "output_type": "display_data"
    },
    {
     "data": {
      "text/plain": "<IPython.core.display.Latex object>",
      "text/latex": "$$- |10\\rangle$$"
     },
     "metadata": {},
     "output_type": "display_data"
    }
   ],
   "source": [
    "test_statevector(create_deutch(f3))"
   ],
   "metadata": {
    "collapsed": false,
    "ExecuteTime": {
     "end_time": "2024-04-17T09:23:13.914759Z",
     "start_time": "2024-04-17T09:23:13.900718Z"
    }
   },
   "id": "277df265feefc208",
   "execution_count": 6
  },
  {
   "cell_type": "markdown",
   "source": [
    "## Zadanie 2\n",
    "Zaimplementuj rozwiązanie klasyczne oraz kwantowe  problemu Bernsteina-Vaziraniego na wybranym symulatorze."
   ],
   "metadata": {
    "collapsed": false
   },
   "id": "453b6c12772afaae"
  },
  {
   "cell_type": "markdown",
   "source": [
    "Mamy daną funkcję f, ale nieznamy jej (ustalonego z góry) parametru a. \n",
    "Ile razy musimy uruchomić tę funkcję, żeby dowiedzieć się, ile wynosi a?"
   ],
   "metadata": {
    "collapsed": false
   },
   "id": "e89571d31ec76997"
  },
  {
   "cell_type": "markdown",
   "source": [
    "![](bernstein_vazirani_przyklady.png)"
   ],
   "metadata": {
    "collapsed": false
   },
   "id": "57d4b0272c3711e8"
  },
  {
   "cell_type": "markdown",
   "source": [
    "### Rozwiązanie klasyczne\n",
    "\n",
    "![](bernstein_vazirani_klasyczne.png)"
   ],
   "metadata": {
    "collapsed": false
   },
   "id": "9d32c0bfd88dc237"
  },
  {
   "cell_type": "code",
   "outputs": [
    {
     "name": "stdout",
     "output_type": "stream",
     "text": [
      "x:  00001\n",
      "ax: 00001\n",
      "\n",
      "x:  00010\n",
      "ax: 00000\n",
      "\n",
      "x:  00100\n",
      "ax: 00100\n",
      "\n",
      "x:  01000\n",
      "ax: 01000\n",
      "\n",
      "x:  10000\n",
      "ax: 00000\n",
      "\n",
      "a:         01101\n",
      "deduced_a: 01101\n",
      "equal:     True\n"
     ]
    }
   ],
   "source": [
    "a = 0b01101\n",
    "n = 5\n",
    "\n",
    "def f(x, a):\n",
    "    ax = 0\n",
    "    for i in range(n):\n",
    "        ax += (a % 2) * (x % 2) * 2 ** i\n",
    "        a //= 2\n",
    "        x //= 2\n",
    "    return ax\n",
    "\n",
    "def as_bin_str(x, n):\n",
    "    return bin(x)[2:].zfill(n)\n",
    "\n",
    "deduced_a = [0] * n\n",
    "for i in range(0, n):\n",
    "    x = 2 ** i\n",
    "    ax = f(x, a)\n",
    "    print(f'x:  {as_bin_str(x, n)}\\nax: {as_bin_str(ax, n)}\\n')\n",
    "    deduced_a[n-i-1] = int(ax != 0)\n",
    "\n",
    "a_str = as_bin_str(a, n)\n",
    "deduced_a_str = ''.join(map(str, deduced_a))\n",
    "print(f'a:         {a_str}\\ndeduced_a: {deduced_a_str}\\nequal:     {a_str == deduced_a_str}')"
   ],
   "metadata": {
    "collapsed": false,
    "ExecuteTime": {
     "end_time": "2024-04-17T09:23:13.925664Z",
     "start_time": "2024-04-17T09:23:13.916775Z"
    }
   },
   "id": "f3ec4d697cde628d",
   "execution_count": 7
  },
  {
   "cell_type": "markdown",
   "source": [
    "**UWAGA**\n",
    "Następne rozwiązanie oraz kwantowe są dla a = 11001, pierwsze dla a = 01101"
   ],
   "metadata": {
    "collapsed": false
   },
   "id": "23265777118cf1cf"
  },
  {
   "cell_type": "code",
   "outputs": [
    {
     "name": "stdout",
     "output_type": "stream",
     "text": [
      "x:  000001\n"
     ]
    },
    {
     "data": {
      "text/plain": "<IPython.core.display.Latex object>",
      "text/latex": "$$ |100001\\rangle$$"
     },
     "metadata": {},
     "output_type": "display_data"
    },
    {
     "name": "stdout",
     "output_type": "stream",
     "text": [
      "x:  000010\n"
     ]
    },
    {
     "data": {
      "text/plain": "<IPython.core.display.Latex object>",
      "text/latex": "$$ |000010\\rangle$$"
     },
     "metadata": {},
     "output_type": "display_data"
    },
    {
     "name": "stdout",
     "output_type": "stream",
     "text": [
      "x:  000100\n"
     ]
    },
    {
     "data": {
      "text/plain": "<IPython.core.display.Latex object>",
      "text/latex": "$$ |000100\\rangle$$"
     },
     "metadata": {},
     "output_type": "display_data"
    },
    {
     "name": "stdout",
     "output_type": "stream",
     "text": [
      "x:  001000\n"
     ]
    },
    {
     "data": {
      "text/plain": "<IPython.core.display.Latex object>",
      "text/latex": "$$ |101000\\rangle$$"
     },
     "metadata": {},
     "output_type": "display_data"
    },
    {
     "name": "stdout",
     "output_type": "stream",
     "text": [
      "x:  010000\n"
     ]
    },
    {
     "data": {
      "text/plain": "<IPython.core.display.Latex object>",
      "text/latex": "$$ |110000\\rangle$$"
     },
     "metadata": {},
     "output_type": "display_data"
    }
   ],
   "source": [
    "n = 6\n",
    "\n",
    "def create_bernstein_bazirani_classic(init_state):\n",
    "    qnumber = n\n",
    "    qc = QuantumCircuit(qnumber)\n",
    "    qc.initialize(init_state)\n",
    "    qc.cx(control_qubit=0, target_qubit=5)\n",
    "    qc.cx(control_qubit=3, target_qubit=5)\n",
    "    qc.cx(control_qubit=4, target_qubit=5)\n",
    "    return qc\n",
    "\n",
    "for i in range(0, n - 1):\n",
    "    x = 2 ** i\n",
    "    print(f'x:  {as_bin_str(x, n)}')\n",
    "    test_statevector(create_bernstein_bazirani_classic(as_bin_str(x, n)))"
   ],
   "metadata": {
    "collapsed": false,
    "ExecuteTime": {
     "end_time": "2024-04-17T09:26:28.596414Z",
     "start_time": "2024-04-17T09:26:28.559752Z"
    }
   },
   "id": "d0cb5cbfa78eed5b",
   "execution_count": 13
  },
  {
   "cell_type": "markdown",
   "source": [
    "Patrzymy na rejestr wyjściowy i maskę x, która wskazuje gdzie bit z tego rejestru znajduje się w wyniku.\n",
    "Otrzymujemy 11001 co zgadza się z zadanym argumentem"
   ],
   "metadata": {
    "collapsed": false
   },
   "id": "9985368c34d56bd1"
  },
  {
   "cell_type": "markdown",
   "source": [
    "### Rozwiązanie kwantowe\n",
    "\n",
    "![](bernstein_vazirani_kwantowe.png)\n",
    "\n",
    "![](bernstein_vazirani_funkcja.png)"
   ],
   "metadata": {
    "collapsed": false
   },
   "id": "89abe01da8442546"
  },
  {
   "cell_type": "code",
   "outputs": [
    {
     "data": {
      "text/plain": "     ┌──────────────────────────┐┌───┐     ┌───┐          \nq_0: ┤0                         ├┤ H ├──■──┤ H ├──────────\n     │                          │├───┤  │  ├───┤          \nq_1: ┤1                         ├┤ H ├──┼──┤ H ├──────────\n     │                          │├───┤  │  ├───┤          \nq_2: ┤2                         ├┤ H ├──┼──┤ H ├──────────\n     │  Initialize(1,0,0,0,0,0) │├───┤  │  └───┘┌───┐     \nq_3: ┤3                         ├┤ H ├──┼────■──┤ H ├─────\n     │                          │├───┤  │    │  └───┘┌───┐\nq_4: ┤4                         ├┤ H ├──┼────┼────■──┤ H ├\n     │                          │├───┤┌─┴─┐┌─┴─┐┌─┴─┐├───┤\nq_5: ┤5                         ├┤ H ├┤ X ├┤ X ├┤ X ├┤ H ├\n     └──────────────────────────┘└───┘└───┘└───┘└───┘└───┘",
      "text/html": "<pre style=\"word-wrap: normal;white-space: pre;background: #fff0;line-height: 1.1;font-family: &quot;Courier New&quot;,Courier,monospace\">     ┌──────────────────────────┐┌───┐     ┌───┐          \nq_0: ┤0                         ├┤ H ├──■──┤ H ├──────────\n     │                          │├───┤  │  ├───┤          \nq_1: ┤1                         ├┤ H ├──┼──┤ H ├──────────\n     │                          │├───┤  │  ├───┤          \nq_2: ┤2                         ├┤ H ├──┼──┤ H ├──────────\n     │  Initialize(1,0,0,0,0,0) │├───┤  │  └───┘┌───┐     \nq_3: ┤3                         ├┤ H ├──┼────■──┤ H ├─────\n     │                          │├───┤  │    │  └───┘┌───┐\nq_4: ┤4                         ├┤ H ├──┼────┼────■──┤ H ├\n     │                          │├───┤┌─┴─┐┌─┴─┐┌─┴─┐├───┤\nq_5: ┤5                         ├┤ H ├┤ X ├┤ X ├┤ X ├┤ H ├\n     └──────────────────────────┘└───┘└───┘└───┘└───┘└───┘</pre>"
     },
     "metadata": {},
     "output_type": "display_data"
    },
    {
     "data": {
      "text/plain": "<IPython.core.display.Latex object>",
      "text/latex": "$$ |111001\\rangle$$"
     },
     "metadata": {},
     "output_type": "display_data"
    }
   ],
   "source": [
    "def create_bernstein_bazirani():\n",
    "    qnumber = 6\n",
    "    qc = QuantumCircuit(qnumber)\n",
    "    qc.initialize('100000')\n",
    "    add_h_all(qc, qnumber)\n",
    "    qc.cx(control_qubit=0, target_qubit=5)\n",
    "    qc.cx(control_qubit=3, target_qubit=5)\n",
    "    qc.cx(control_qubit=4, target_qubit=5)\n",
    "    add_h_all(qc, qnumber)\n",
    "    display(qc.draw())\n",
    "    return qc\n",
    "\n",
    "test_statevector(create_bernstein_bazirani())"
   ],
   "metadata": {
    "collapsed": false,
    "ExecuteTime": {
     "end_time": "2024-04-17T09:23:13.991749Z",
     "start_time": "2024-04-17T09:23:13.969720Z"
    }
   },
   "id": "805b8487a6ba69cb",
   "execution_count": 9
  },
  {
   "cell_type": "markdown",
   "source": [
    "Wynik znajduje się na rejestrach wejściowych więc pomijamy pierwszy bit i otrzymujemy 11001, równe zadanemu argumentowi"
   ],
   "metadata": {
    "collapsed": false
   },
   "id": "fefb8f794f9c61f8"
  }
 ],
 "metadata": {
  "kernelspec": {
   "display_name": "Python 3",
   "language": "python",
   "name": "python3"
  },
  "language_info": {
   "codemirror_mode": {
    "name": "ipython",
    "version": 2
   },
   "file_extension": ".py",
   "mimetype": "text/x-python",
   "name": "python",
   "nbconvert_exporter": "python",
   "pygments_lexer": "ipython2",
   "version": "2.7.6"
  }
 },
 "nbformat": 4,
 "nbformat_minor": 5
}
