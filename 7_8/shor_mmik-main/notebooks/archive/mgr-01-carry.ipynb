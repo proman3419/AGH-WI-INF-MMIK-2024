{
 "cells": [
  {
   "cell_type": "code",
   "execution_count": 1,
   "metadata": {},
   "outputs": [],
   "source": [
    "n = 4\n",
    "\n",
    "a = 6\n",
    "g = 10\n",
    "number = 11\n",
    "\n",
    "bits = [ int(x) for x in '{:0{size}b}'.format(number, size=n) ]"
   ]
  },
  {
   "cell_type": "code",
   "execution_count": 2,
   "metadata": {},
   "outputs": [
    {
     "data": {
      "text/plain": [
       "[1, 0, 1, 1]"
      ]
     },
     "execution_count": 2,
     "metadata": {},
     "output_type": "execute_result"
    }
   ],
   "source": [
    "bits"
   ]
  },
  {
   "cell_type": "code",
   "execution_count": 3,
   "metadata": {},
   "outputs": [
    {
     "name": "stdout",
     "output_type": "stream",
     "text": [
      "1\n",
      "0\n",
      "1\n"
     ]
    }
   ],
   "source": [
    "for i in range(n - 1, 0, -1):\n",
    "    print(bits[n-(i+1)])"
   ]
  },
  {
   "cell_type": "code",
   "execution_count": 4,
   "metadata": {},
   "outputs": [],
   "source": [
    "from qiskit import QuantumRegister, ClassicalRegister, QuantumCircuit"
   ]
  },
  {
   "cell_type": "code",
   "execution_count": 5,
   "metadata": {},
   "outputs": [],
   "source": [
    "reg_A = QuantumRegister(n, name='a')\n",
    "reg_G = QuantumRegister(n, name='g')\n",
    "reg_C = QuantumRegister(1, name='c')"
   ]
  },
  {
   "cell_type": "code",
   "execution_count": 6,
   "metadata": {},
   "outputs": [],
   "source": [
    "qc = QuantumCircuit(reg_A, reg_G, reg_C)\n",
    "\n",
    "qc.cx(reg_G[n - 1], reg_C)\n",
    "\n",
    "for i in range(n - 1, 0, -1):\n",
    "    if bits[n-(i+1)] == 1:\n",
    "        qc.cx(reg_A[i], reg_G[i])\n",
    "        qc.x(reg_A[i])\n",
    "    qc.ccx(reg_G[i - 1], reg_A[i], reg_G[i])\n",
    "    # qc.barrier(reg_A[:], reg_G[:], reg_C[:])\n",
    "    \n",
    "if bits[n-1] == 1:\n",
    "    qc.cx(reg_A[0], reg_G[0])\n",
    "    \n",
    "for i in range(1, n):\n",
    "    qc.ccx(reg_G[i - 1], reg_A[i], reg_G[i])\n",
    "\n",
    "#qc.barrier(reg_A[:], reg_G[:], reg_C[:])\n",
    "    \n",
    "qc.cx(reg_G[n - 1], reg_C)\n",
    "\n",
    "#qc.barrier(reg_A[:], reg_G[:], reg_C[:])\n",
    "\n",
    "for i in range(n - 1, 0, -1):\n",
    "    qc.ccx(reg_G[i - 1], reg_A[i], reg_G[i])\n",
    "\n",
    "#qc.barrier(reg_A[:], reg_G[:], reg_C[:])\n",
    "\n",
    "if bits[n-1] == 1:\n",
    "    qc.cx(reg_A[0], reg_G[0])\n",
    "\n",
    "#qc.barrier(reg_A[:], reg_G[:], reg_C[:])\n",
    "    \n",
    "for i in range(1, n):\n",
    "    qc.ccx(reg_G[i - 1], reg_A[i], reg_G[i])\n",
    "    if bits[n-(i+1)] == 1:\n",
    "        qc.x(reg_A[i])\n",
    "        qc.cx(reg_A[i], reg_G[i])\n",
    "    #qc.barrier(reg_A[:], reg_G[:], reg_C[:])"
   ]
  },
  {
   "cell_type": "code",
   "execution_count": 7,
   "metadata": {},
   "outputs": [],
   "source": [
    "# qc.draw(output='mpl')"
   ]
  },
  {
   "cell_type": "code",
   "execution_count": 8,
   "metadata": {},
   "outputs": [
    {
     "data": {
      "text/plain": [
       "<qiskit.circuit.instructionset.InstructionSet at 0x7f7bb3b61e50>"
      ]
     },
     "execution_count": 8,
     "metadata": {},
     "output_type": "execute_result"
    }
   ],
   "source": [
    "cr0 = ClassicalRegister(n, name='ca')\n",
    "cr1 = ClassicalRegister(n, name='cg')\n",
    "cr2 = ClassicalRegister(1, name='carry')\n",
    "\n",
    "qc_meas = QuantumCircuit(reg_A, reg_G, reg_C, cr0, cr1, cr2)\n",
    "qc_meas.barrier(reg_A[:], reg_G[:], reg_C[:])\n",
    "qc_meas.measure(reg_A[:], cr0[:])\n",
    "qc_meas.measure(reg_G[:], cr1[:])\n",
    "qc_meas.measure(reg_C[:], cr2[:])\n",
    "\n",
    "# qc_meas.draw(output='mpl')"
   ]
  },
  {
   "cell_type": "code",
   "execution_count": 9,
   "metadata": {},
   "outputs": [
    {
     "data": {
      "text/plain": [
       "<qiskit.circuit.instructionset.InstructionSet at 0x7f7bb3b733a0>"
      ]
     },
     "execution_count": 9,
     "metadata": {},
     "output_type": "execute_result"
    }
   ],
   "source": [
    "qc_init = QuantumCircuit(reg_A, reg_G)\n",
    "\n",
    "a_bits = [ int(x) for x in '{:0{size}b}'.format(a, size=n) ]\n",
    "g_bits = [ int(x) for x in '{:0{size}b}'.format(g, size=n) ]\n",
    "\n",
    "for i in range(n):\n",
    "    if a_bits[n-(i+1)] == 1:\n",
    "        qc_init.x(reg_A[i])\n",
    "        \n",
    "for i in range(n):\n",
    "    if g_bits[n-(i+1)] == 1:\n",
    "        qc_init.x(reg_G[i])\n",
    "\n",
    "qc_init.barrier(reg_A[:], reg_G[:])\n",
    "        \n",
    "# qc_init.draw(output='mpl')"
   ]
  },
  {
   "cell_type": "code",
   "execution_count": 10,
   "metadata": {},
   "outputs": [
    {
     "name": "stderr",
     "output_type": "stream",
     "text": [
      "<ipython-input-10-7badd2fe3392>:1: DeprecationWarning: The QuantumCircuit.__add__() method is being deprecated.Use the compose() method which is more flexible w.r.t circuit register compatibility.\n",
      "  qc_all = qc_init + qc + qc_meas\n",
      "/home/bartek/S10/MGR/masterThesisProject/venv/lib/python3.8/site-packages/qiskit/circuit/quantumcircuit.py:869: DeprecationWarning: The QuantumCircuit.combine() method is being deprecated. Use the compose() method which is more flexible w.r.t circuit register compatibility.\n",
      "  return self.combine(rhs)\n"
     ]
    }
   ],
   "source": [
    "qc_all = qc_init + qc + qc_meas\n",
    "# qc_all.draw(output='mpl')"
   ]
  },
  {
   "cell_type": "code",
   "execution_count": 11,
   "metadata": {},
   "outputs": [],
   "source": [
    "from qiskit import Aer\n",
    "from qiskit import execute\n",
    "\n",
    "backend_sim = Aer.get_backend('qasm_simulator')\n",
    "job_sim = execute(qc_all, backend_sim, shots=1024)\n",
    "\n",
    "result_sim = job_sim.result()"
   ]
  },
  {
   "cell_type": "code",
   "execution_count": 12,
   "metadata": {},
   "outputs": [
    {
     "name": "stdout",
     "output_type": "stream",
     "text": [
      "{'1 1010 0110': 1024}\n"
     ]
    }
   ],
   "source": [
    "counts = result_sim.get_counts(qc_all)\n",
    "print(counts)"
   ]
  },
  {
   "cell_type": "code",
   "execution_count": null,
   "metadata": {},
   "outputs": [],
   "source": []
  }
 ],
 "metadata": {
  "kernelspec": {
   "display_name": "Python 3",
   "language": "python",
   "name": "python3"
  },
  "language_info": {
   "codemirror_mode": {
    "name": "ipython",
    "version": 3
   },
   "file_extension": ".py",
   "mimetype": "text/x-python",
   "name": "python",
   "nbconvert_exporter": "python",
   "pygments_lexer": "ipython3",
   "version": "3.8.5"
  }
 },
 "nbformat": 4,
 "nbformat_minor": 4
}
