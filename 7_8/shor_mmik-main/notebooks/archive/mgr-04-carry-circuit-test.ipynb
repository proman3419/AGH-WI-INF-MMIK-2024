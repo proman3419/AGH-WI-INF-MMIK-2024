{
 "cells": [
  {
   "cell_type": "code",
   "execution_count": 1,
   "metadata": {},
   "outputs": [],
   "source": [
    "from qiskit import QuantumRegister, ClassicalRegister, QuantumCircuit"
   ]
  },
  {
   "cell_type": "code",
   "execution_count": 2,
   "metadata": {},
   "outputs": [],
   "source": [
    "def get_bits(x, n):\n",
    "    return [int(x) for x in '{:0{size}b}'.format(x, size=n)]"
   ]
  },
  {
   "cell_type": "code",
   "execution_count": 3,
   "metadata": {},
   "outputs": [],
   "source": [
    "def generate_carry_part(constant, n):\n",
    "    constant_bits = get_bits(constant, n)\n",
    "    \n",
    "    reg_A = QuantumRegister(n, name='a') # |a> - input register\n",
    "    reg_G = QuantumRegister(n, name='g') # |g> - dirty ancilla register, state have to be restored\n",
    "    reg_C = QuantumRegister(1, name='c') # |c> - output register - information about carry\n",
    "    \n",
    "    qc = QuantumCircuit(reg_A, reg_G, reg_C)\n",
    "\n",
    "    qc.cx(reg_G[n - 1], reg_C)\n",
    "\n",
    "    for i in range(n - 1, 0, -1):\n",
    "        if constant_bits[n-(i+1)] == 1:\n",
    "            qc.cx(reg_A[i], reg_G[i])\n",
    "            qc.x(reg_A[i])\n",
    "        qc.ccx(reg_G[i - 1], reg_A[i], reg_G[i])\n",
    "        # qc.barrier(reg_A[:], reg_G[:], reg_C[:])\n",
    "\n",
    "    if constant_bits[n-1] == 1:\n",
    "        qc.cx(reg_A[0], reg_G[0])\n",
    "\n",
    "    for i in range(1, n):\n",
    "        qc.ccx(reg_G[i - 1], reg_A[i], reg_G[i])\n",
    "\n",
    "    #qc.barrier(reg_A[:], reg_G[:], reg_C[:])\n",
    "\n",
    "    qc.cx(reg_G[n - 1], reg_C)\n",
    "\n",
    "    #qc.barrier(reg_A[:], reg_G[:], reg_C[:])\n",
    "\n",
    "    for i in range(n - 1, 0, -1):\n",
    "        qc.ccx(reg_G[i - 1], reg_A[i], reg_G[i])\n",
    "\n",
    "    #qc.barrier(reg_A[:], reg_G[:], reg_C[:])\n",
    "\n",
    "    if constant_bits[n-1] == 1:\n",
    "        qc.cx(reg_A[0], reg_G[0])\n",
    "\n",
    "    #qc.barrier(reg_A[:], reg_G[:], reg_C[:])\n",
    "\n",
    "    for i in range(1, n):\n",
    "        qc.ccx(reg_G[i - 1], reg_A[i], reg_G[i])\n",
    "        if constant_bits[n-(i+1)] == 1:\n",
    "            qc.x(reg_A[i])\n",
    "            qc.cx(reg_A[i], reg_G[i])\n",
    "        #qc.barrier(reg_A[:], reg_G[:], reg_C[:])\n",
    "    \n",
    "    return qc"
   ]
  },
  {
   "cell_type": "code",
   "execution_count": 4,
   "metadata": {},
   "outputs": [],
   "source": [
    "# qc = generate_carry_part(11, 4)\n",
    "# qc.draw(output='mpl')"
   ]
  },
  {
   "cell_type": "code",
   "execution_count": 5,
   "metadata": {},
   "outputs": [],
   "source": [
    "def generate_init_part(a, g, n):\n",
    "    a_bits = get_bits(a, n)\n",
    "    g_bits = get_bits(g, n)\n",
    "    \n",
    "    qrA = QuantumRegister(n, name='a')\n",
    "    qrG = QuantumRegister(n, name='g')\n",
    "    qc = QuantumCircuit(qrA, qrG)\n",
    "    \n",
    "    for i in range(n):\n",
    "        if a_bits[n-(i+1)] == 1:\n",
    "            qc.x(qrA[i])\n",
    "\n",
    "    for i in range(n):\n",
    "        if g_bits[n-(i+1)] == 1:\n",
    "            qc.x(qrG[i])\n",
    "\n",
    "    qc.barrier(qrA[:], qrG[:])\n",
    "    \n",
    "    return qc"
   ]
  },
  {
   "cell_type": "code",
   "execution_count": 6,
   "metadata": {},
   "outputs": [],
   "source": [
    "# qc_init = generate_init_part(6, 10, 4)\n",
    "# qc_init.draw(output='mpl')"
   ]
  },
  {
   "cell_type": "code",
   "execution_count": 7,
   "metadata": {},
   "outputs": [],
   "source": [
    "def generate_measure_part(n):\n",
    "    qrA = QuantumRegister(n, name='a')\n",
    "    qrG = QuantumRegister(n, name='g')\n",
    "    qrC = QuantumRegister(1, name='c')\n",
    "    crA = ClassicalRegister(n, name='aValue')\n",
    "    crG = ClassicalRegister(n, name='gValue')\n",
    "    crC = ClassicalRegister(1, name='cValue')\n",
    "\n",
    "    qc = QuantumCircuit(qrA, qrG, qrC, crA, crG, crC)\n",
    "    qc.barrier(qrA[:], qrG[:], qrC[:])\n",
    "    qc.measure(qrA[:], crA[:])\n",
    "    qc.measure(qrG[:], crG[:])\n",
    "    qc.measure(qrC[:], crC[:])\n",
    "    \n",
    "    return qc"
   ]
  },
  {
   "cell_type": "code",
   "execution_count": 8,
   "metadata": {},
   "outputs": [],
   "source": [
    "# qc_meas = generate_measure_part(4)\n",
    "# qc_meas.draw(output='mpl')"
   ]
  },
  {
   "cell_type": "code",
   "execution_count": 9,
   "metadata": {},
   "outputs": [],
   "source": [
    "def test_carry(a, constant, n, carry):\n",
    "    expected_carry = int((a + constant) / (2 ** n))\n",
    "    print(expected_carry, carry, expected_carry == carry)"
   ]
  },
  {
   "cell_type": "code",
   "execution_count": 10,
   "metadata": {},
   "outputs": [
    {
     "name": "stdout",
     "output_type": "stream",
     "text": [
      "1 1 True\n"
     ]
    }
   ],
   "source": [
    "test_carry(6, 11, 4, 1)"
   ]
  },
  {
   "cell_type": "code",
   "execution_count": 11,
   "metadata": {},
   "outputs": [],
   "source": [
    "from qiskit import Aer\n",
    "from qiskit import execute\n",
    "\n",
    "backend = Aer.get_backend('qasm_simulator')"
   ]
  },
  {
   "cell_type": "code",
   "execution_count": 12,
   "metadata": {},
   "outputs": [],
   "source": [
    "# \"\"\"\n",
    "# a = 6\n",
    "# g = 10\n",
    "# constant = 11\n",
    "# n = 4\n",
    "# \"\"\""
   ]
  },
  {
   "cell_type": "code",
   "execution_count": 13,
   "metadata": {},
   "outputs": [],
   "source": [
    "def test(a, g, constant, n):\n",
    "    init = generate_init_part(a, g, n)\n",
    "    carry_gate = generate_carry_part(constant, n)\n",
    "    meas = generate_measure_part(n)\n",
    "\n",
    "    qc = init + carry_gate + meas\n",
    "\n",
    "    job = execute(qc, backend, shots=1)\n",
    "    result = job.result()\n",
    "    values = list(result.get_counts(qc).keys())\n",
    "\n",
    "    assert len(values) == 1\n",
    "    values = [int(v, 2) for v in values[0].split(' ')]\n",
    "\n",
    "    c_value = values[0]\n",
    "    g_value = values[1]\n",
    "    a_value = values[2]\n",
    "\n",
    "    print(a, a_value, a == a_value)\n",
    "    print(g, g_value, g == g_value)\n",
    "    test_carry(a, constant, n, c_value)"
   ]
  },
  {
   "cell_type": "code",
   "execution_count": 14,
   "metadata": {},
   "outputs": [
    {
     "name": "stderr",
     "output_type": "stream",
     "text": [
      "<ipython-input-13-6aa9ef8a3bd6>:6: DeprecationWarning: The QuantumCircuit.__add__() method is being deprecated.Use the compose() method which is more flexible w.r.t circuit register compatibility.\n",
      "  qc = init + carry_gate + meas\n",
      "/home/bartek/S10/MGR/masterThesisProject/venv/lib/python3.8/site-packages/qiskit/circuit/quantumcircuit.py:869: DeprecationWarning: The QuantumCircuit.combine() method is being deprecated. Use the compose() method which is more flexible w.r.t circuit register compatibility.\n",
      "  return self.combine(rhs)\n"
     ]
    },
    {
     "name": "stdout",
     "output_type": "stream",
     "text": [
      "6 6 True\n",
      "10 10 True\n",
      "1 1 True\n"
     ]
    }
   ],
   "source": [
    "test(6, 10, 11, 4)"
   ]
  },
  {
   "cell_type": "code",
   "execution_count": 15,
   "metadata": {},
   "outputs": [],
   "source": [
    "# for n in range(4):\n",
    "#     n = n + 1\n",
    "#     N = 2 ** n\n",
    "#     for a in range(N):\n",
    "#         for g in range(N):\n",
    "#             for c in range(N):\n",
    "#                 print('---', a, g, c, '---')\n",
    "#                 test(a, g, c, n)"
   ]
  },
  {
   "cell_type": "code",
   "execution_count": null,
   "metadata": {},
   "outputs": [],
   "source": []
  }
 ],
 "metadata": {
  "kernelspec": {
   "display_name": "Python 3",
   "language": "python",
   "name": "python3"
  },
  "language_info": {
   "codemirror_mode": {
    "name": "ipython",
    "version": 3
   },
   "file_extension": ".py",
   "mimetype": "text/x-python",
   "name": "python",
   "nbconvert_exporter": "python",
   "pygments_lexer": "ipython3",
   "version": "3.8.5"
  }
 },
 "nbformat": 4,
 "nbformat_minor": 4
}
