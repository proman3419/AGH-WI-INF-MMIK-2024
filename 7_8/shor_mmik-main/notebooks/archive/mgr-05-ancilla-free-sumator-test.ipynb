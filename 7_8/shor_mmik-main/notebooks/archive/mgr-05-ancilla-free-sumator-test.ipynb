{
 "cells": [
  {
   "cell_type": "code",
   "execution_count": 1,
   "metadata": {},
   "outputs": [],
   "source": [
    "from qiskit import QuantumRegister, ClassicalRegister, QuantumCircuit"
   ]
  },
  {
   "cell_type": "code",
   "execution_count": 2,
   "metadata": {},
   "outputs": [],
   "source": [
    "def get_bits(x, n):\n",
    "    return [int(x) for x in '{:0{size}b}'.format(x, size=n)]"
   ]
  },
  {
   "cell_type": "code",
   "execution_count": 3,
   "metadata": {},
   "outputs": [],
   "source": [
    "def generate_sumator(n):\n",
    "    qrX = QuantumRegister(n, name='x') # input register\n",
    "    qrY = QuantumRegister(n, name='y') # output register, contains result of (x+y) mod n\n",
    "    qrC = QuantumRegister(1, name='c') # output register, contains carry of (x+y)\n",
    "    \n",
    "    qc = QuantumCircuit(qrY, qrC, qrX)\n",
    "\n",
    "    # 1\n",
    "    for i in range(1, n): # 1..n-1\n",
    "        qc.cx(qrX[i], qrY[i])\n",
    "\n",
    "    # 2\n",
    "    qc.cx(qrX[n-1], qrC)\n",
    "    for i in range(n-2, 0, -1): # n-2..1\n",
    "        qc.cx(qrX[i], qrX[i+1])\n",
    "\n",
    "    # 3    \n",
    "    for i in range(0, n-1):\n",
    "        qc.ccx(qrX[i], qrY[i], qrX[i+1])\n",
    "    qc.ccx(qrX[n-1], qrY[n-1], qrC)\n",
    "\n",
    "    # 4\n",
    "    for i in range(n-1, 0, -1):\n",
    "        qc.cx(qrX[i], qrY[i])\n",
    "        qc.ccx(qrX[i-1], qrY[i-1], qrX[i])\n",
    "\n",
    "    # 5\n",
    "    for i in range(1, n-1):\n",
    "        qc.cx(qrX[i], qrX[i+1])\n",
    "\n",
    "    # 6\n",
    "    for i in range(0, n):\n",
    "        qc.cx(qrX[i], qrY[i])\n",
    "        \n",
    "    return qc"
   ]
  },
  {
   "cell_type": "code",
   "execution_count": 4,
   "metadata": {},
   "outputs": [],
   "source": [
    "# qc = generate_sumator(5)\n",
    "# qc.draw(output='mpl', fold=-1)"
   ]
  },
  {
   "cell_type": "code",
   "execution_count": 5,
   "metadata": {},
   "outputs": [],
   "source": [
    "def generate_init_part(x, y, n):\n",
    "    x_bits = get_bits(x, n)\n",
    "    y_bits = get_bits(y, n)\n",
    "    \n",
    "    qrX = QuantumRegister(n, name='x')\n",
    "    qrY = QuantumRegister(n, name='y')\n",
    "    qc = QuantumCircuit(qrY, qrX)\n",
    "    \n",
    "    for i in range(n):\n",
    "        if x_bits[n-(i+1)] == 1:\n",
    "            qc.x(qrX[i])\n",
    "\n",
    "    for i in range(n):\n",
    "        if y_bits[n-(i+1)] == 1:\n",
    "            qc.x(qrY[i])\n",
    "\n",
    "    qc.barrier(qrX[:], qrY[:])\n",
    "    \n",
    "    return qc"
   ]
  },
  {
   "cell_type": "code",
   "execution_count": 6,
   "metadata": {},
   "outputs": [],
   "source": [
    "# qc_init = generate_init_part(1, 3, 2)\n",
    "# qc_init.draw(output='mpl')"
   ]
  },
  {
   "cell_type": "code",
   "execution_count": 7,
   "metadata": {},
   "outputs": [],
   "source": [
    "def generate_measure_part(n):\n",
    "    qrX = QuantumRegister(n, name='x')\n",
    "    qrY = QuantumRegister(n, name='y')\n",
    "    qrC = QuantumRegister(1, name='c')\n",
    "    crY = ClassicalRegister(n, name='yValue')\n",
    "    crX = ClassicalRegister(n, name='xValue')\n",
    "    crC = ClassicalRegister(1, name='cValue')\n",
    "\n",
    "    qc = QuantumCircuit(qrY, qrC, qrX, crY, crC, crX)\n",
    "    qc.barrier(qrY[:], qrC[:], qrX[:])\n",
    "    qc.measure(qrY[:], crY[:])\n",
    "    qc.measure(qrC[:], crC[:])\n",
    "    qc.measure(qrX[:], crX[:])\n",
    "    \n",
    "    return qc"
   ]
  },
  {
   "cell_type": "code",
   "execution_count": 8,
   "metadata": {},
   "outputs": [],
   "source": [
    "# qc_meas = generate_measure_part(2)\n",
    "# qc_meas.draw(output='mpl')"
   ]
  },
  {
   "cell_type": "code",
   "execution_count": 9,
   "metadata": {},
   "outputs": [],
   "source": [
    "def test_sum(x, y, n, actual_sum):\n",
    "    expected_sum = (x + y) % (2 ** n)\n",
    "    print(expected_sum, actual_sum, expected_sum == actual_sum)"
   ]
  },
  {
   "cell_type": "code",
   "execution_count": 10,
   "metadata": {},
   "outputs": [],
   "source": [
    "# test_sum(6, 10, 4, 0)"
   ]
  },
  {
   "cell_type": "code",
   "execution_count": 11,
   "metadata": {},
   "outputs": [],
   "source": [
    "def test_carry(x, y, n, carry):\n",
    "    expected_carry = int((x + y) / (2 ** n))\n",
    "    print(expected_carry, carry, expected_carry == carry)"
   ]
  },
  {
   "cell_type": "code",
   "execution_count": 12,
   "metadata": {},
   "outputs": [],
   "source": [
    "from qiskit import Aer\n",
    "from qiskit import execute\n",
    "\n",
    "backend = Aer.get_backend('qasm_simulator')"
   ]
  },
  {
   "cell_type": "code",
   "execution_count": 13,
   "metadata": {},
   "outputs": [],
   "source": [
    "def test(x, y, n):\n",
    "    init = generate_init_part(x, y, n)\n",
    "    sum_gate = generate_sumator(n)\n",
    "    meas = generate_measure_part(n)\n",
    "\n",
    "    qc = init + sum_gate + meas\n",
    "\n",
    "    job = execute(qc, backend, shots=1)\n",
    "    result = job.result()\n",
    "    values = list(result.get_counts(qc).keys())\n",
    "\n",
    "    assert len(values) == 1\n",
    "    values = [int(v, 2) for v in values[0].split(' ')]\n",
    "\n",
    "    c_value = values[1]\n",
    "    x_value = values[0]\n",
    "    y_value = values[2]\n",
    "\n",
    "    print(x, x_value, x == x_value)\n",
    "    test_sum(x, y, n, y_value)\n",
    "    test_carry(x, y, n, c_value)"
   ]
  },
  {
   "cell_type": "code",
   "execution_count": 14,
   "metadata": {},
   "outputs": [
    {
     "name": "stderr",
     "output_type": "stream",
     "text": [
      "<ipython-input-13-fd4ca9786444>:6: DeprecationWarning: The QuantumCircuit.__add__() method is being deprecated.Use the compose() method which is more flexible w.r.t circuit register compatibility.\n",
      "  qc = init + sum_gate + meas\n",
      "/home/bartek/MGR/masterThesisProject/venv/lib/python3.8/site-packages/qiskit/circuit/quantumcircuit.py:869: DeprecationWarning: The QuantumCircuit.combine() method is being deprecated. Use the compose() method which is more flexible w.r.t circuit register compatibility.\n",
      "  return self.combine(rhs)\n"
     ]
    },
    {
     "name": "stdout",
     "output_type": "stream",
     "text": [
      "6 6 True\n",
      "0 0 True\n",
      "1 1 True\n"
     ]
    }
   ],
   "source": [
    "test(6, 10, 4)"
   ]
  },
  {
   "cell_type": "code",
   "execution_count": 15,
   "metadata": {},
   "outputs": [],
   "source": [
    "# for n in range(4):\n",
    "#     n = n + 1\n",
    "#     N = 2 ** n\n",
    "#     for a in range(N):\n",
    "#         for g in range(N):\n",
    "#             print('---', a, g, '---')\n",
    "#             test(a, g, n)"
   ]
  },
  {
   "cell_type": "code",
   "execution_count": null,
   "metadata": {},
   "outputs": [],
   "source": []
  }
 ],
 "metadata": {
  "kernelspec": {
   "display_name": "Python 3",
   "language": "python",
   "name": "python3"
  },
  "language_info": {
   "codemirror_mode": {
    "name": "ipython",
    "version": 3
   },
   "file_extension": ".py",
   "mimetype": "text/x-python",
   "name": "python",
   "nbconvert_exporter": "python",
   "pygments_lexer": "ipython3",
   "version": "3.8.3"
  }
 },
 "nbformat": 4,
 "nbformat_minor": 4
}
