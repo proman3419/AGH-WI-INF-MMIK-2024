{
 "cells": [
  {
   "cell_type": "code",
   "execution_count": 1,
   "metadata": {},
   "outputs": [],
   "source": [
    "from qiskit import QuantumRegister, ClassicalRegister, QuantumCircuit"
   ]
  },
  {
   "cell_type": "code",
   "execution_count": 2,
   "metadata": {},
   "outputs": [],
   "source": [
    "def generate_substractor(n):\n",
    "    qrX = QuantumRegister(n, name='g')\n",
    "    qrY = QuantumRegister(n, name='a') # output of substraction should be put to register |a>\n",
    "    # carry is unnecessary here\n",
    "    \n",
    "    qc = QuantumCircuit(qrY, qrX)\n",
    "    \n",
    "    # 3.6\n",
    "    for i in range(n-1, -1, -1):\n",
    "        qc.cx(qrX[i], qrY[i])\n",
    "\n",
    "    # 3.5\n",
    "    for i in range(n-1, 1, -1):\n",
    "        qc.cx(qrX[i-1], qrX[i])\n",
    "\n",
    "    # 3.4\n",
    "    for i in range(1, n):\n",
    "        qc.ccx(qrX[i-1], qrY[i-1], qrX[i])\n",
    "        qc.cx(qrX[i], qrY[i])\n",
    "\n",
    "    # 3.3\n",
    "    for i in range(n-1, 0, -1):\n",
    "        qc.ccx(qrX[i-1], qrY[i-1], qrX[i])\n",
    "\n",
    "    # 3.2\n",
    "    for i in range(1, n-1):\n",
    "        qc.cx(qrX[i], qrX[i+1])\n",
    "\n",
    "    # 3.1\n",
    "    for i in range(n-1, 0, -1):\n",
    "        qc.cx(qrX[i], qrY[i])\n",
    "        \n",
    "    return qc"
   ]
  },
  {
   "cell_type": "code",
   "execution_count": 3,
   "metadata": {},
   "outputs": [],
   "source": [
    "# qc = generate_substractor(4)\n",
    "# qc.draw(output='mpl')"
   ]
  },
  {
   "cell_type": "code",
   "execution_count": 4,
   "metadata": {},
   "outputs": [],
   "source": [
    "def generate_negation_part(n):\n",
    "    qrG = QuantumRegister(n, name='g')\n",
    "    \n",
    "    qc = QuantumCircuit(qrG)\n",
    "    \n",
    "    qc.barrier(qrG[:])\n",
    "    for i in range(n):\n",
    "        qc.x(qrG[i])\n",
    "    qc.barrier(qrG[:])\n",
    "    \n",
    "    return qc"
   ]
  },
  {
   "cell_type": "code",
   "execution_count": 5,
   "metadata": {},
   "outputs": [],
   "source": [
    "# qc = generate_negation_part(4)\n",
    "# qc.draw(output='mpl')"
   ]
  },
  {
   "cell_type": "code",
   "execution_count": 6,
   "metadata": {},
   "outputs": [],
   "source": [
    "def generate_incrementator(n):\n",
    "    qc_sub = generate_substractor(n)\n",
    "    qc_neg = generate_negation_part(n)\n",
    "    \n",
    "    return qc_sub + qc_neg + qc_sub + qc_neg"
   ]
  },
  {
   "cell_type": "code",
   "execution_count": 7,
   "metadata": {
    "scrolled": true
   },
   "outputs": [],
   "source": [
    "# qc = generate_incrementator(4)\n",
    "# qc.draw(output='mpl')"
   ]
  },
  {
   "cell_type": "code",
   "execution_count": 8,
   "metadata": {},
   "outputs": [],
   "source": [
    "def get_bits(x, n):\n",
    "    return [int(x) for x in '{:0{size}b}'.format(x, size=n)]"
   ]
  },
  {
   "cell_type": "code",
   "execution_count": 9,
   "metadata": {},
   "outputs": [],
   "source": [
    "def generate_init_part(a, g, n):\n",
    "    a_bits = get_bits(a, n)\n",
    "    g_bits = get_bits(g, n)\n",
    "    \n",
    "    qrA = QuantumRegister(n, name='a')\n",
    "    qrG = QuantumRegister(n, name='g')\n",
    "    qc = QuantumCircuit(qrA, qrG)\n",
    "    \n",
    "    for i in range(n):\n",
    "        if a_bits[n-(i+1)] == 1:\n",
    "            qc.x(qrA[i])\n",
    "\n",
    "    for i in range(n):\n",
    "        if g_bits[n-(i+1)] == 1:\n",
    "            qc.x(qrG[i])\n",
    "\n",
    "    qc.barrier(qrA[:], qrG[:])\n",
    "    \n",
    "    return qc"
   ]
  },
  {
   "cell_type": "code",
   "execution_count": 10,
   "metadata": {},
   "outputs": [],
   "source": [
    "def generate_measure_part(n):\n",
    "    qrA = QuantumRegister(n, name='a')\n",
    "    qrG = QuantumRegister(n, name='g')\n",
    "    crA = ClassicalRegister(n, name='aValue')\n",
    "    crG = ClassicalRegister(n, name='gValue')\n",
    "\n",
    "    qc = QuantumCircuit(qrA, qrG, crA, crG)\n",
    "    qc.barrier(qrA[:], qrG[:])\n",
    "    qc.measure(qrA[:], crA[:])\n",
    "    qc.measure(qrG[:], crG[:])\n",
    "    \n",
    "    return qc"
   ]
  },
  {
   "cell_type": "code",
   "execution_count": 11,
   "metadata": {},
   "outputs": [],
   "source": [
    "# qc_meas = generate_measure_part(4)\n",
    "# qc_meas.draw(output='mpl')"
   ]
  },
  {
   "cell_type": "code",
   "execution_count": 12,
   "metadata": {},
   "outputs": [],
   "source": [
    "from qiskit import Aer\n",
    "from qiskit import execute\n",
    "\n",
    "backend = Aer.get_backend('qasm_simulator')"
   ]
  },
  {
   "cell_type": "code",
   "execution_count": 13,
   "metadata": {},
   "outputs": [],
   "source": [
    "def test_incrementation(a, n, a_value):\n",
    "    expected_value = (a + 1) % (2 ** n)\n",
    "    print(expected_value, a_value, expected_value == a_value)"
   ]
  },
  {
   "cell_type": "code",
   "execution_count": 14,
   "metadata": {},
   "outputs": [],
   "source": [
    "def test(a, g, n):\n",
    "    init = generate_init_part(a, g, n)\n",
    "    inc_gate = generate_incrementator(n)\n",
    "    meas = generate_measure_part(n)\n",
    "\n",
    "    qc = init + inc_gate + meas\n",
    "\n",
    "    job = execute(qc, backend, shots=1)\n",
    "    result = job.result()\n",
    "    values = list(result.get_counts(qc).keys())\n",
    "\n",
    "    assert len(values) == 1\n",
    "    values = [int(v, 2) for v in values[0].split(' ')]\n",
    "\n",
    "    g_value = values[0]\n",
    "    a_value = values[1]\n",
    "\n",
    "    test_incrementation(a, n, a_value)\n",
    "    print(g, g_value, g == g_value)"
   ]
  },
  {
   "cell_type": "code",
   "execution_count": 15,
   "metadata": {},
   "outputs": [
    {
     "name": "stderr",
     "output_type": "stream",
     "text": [
      "<ipython-input-6-3a680a89c908>:5: DeprecationWarning: The QuantumCircuit.__add__() method is being deprecated.Use the compose() method which is more flexible w.r.t circuit register compatibility.\n",
      "  return qc_sub + qc_neg + qc_sub + qc_neg\n",
      "/home/bartek/MGR/masterThesisProject/venv/lib/python3.8/site-packages/qiskit/circuit/quantumcircuit.py:869: DeprecationWarning: The QuantumCircuit.combine() method is being deprecated. Use the compose() method which is more flexible w.r.t circuit register compatibility.\n",
      "  return self.combine(rhs)\n"
     ]
    },
    {
     "name": "stdout",
     "output_type": "stream",
     "text": [
      "7 7 True\n",
      "5 5 True\n"
     ]
    }
   ],
   "source": [
    "test(6, 5, 3)"
   ]
  },
  {
   "cell_type": "code",
   "execution_count": 16,
   "metadata": {},
   "outputs": [],
   "source": [
    "# for n in range(4):\n",
    "#     n = n + 1\n",
    "#     N = 2 ** n\n",
    "#     for a in range(N):\n",
    "#         for g in range(N):\n",
    "#             print('---', a, g, '---')\n",
    "#             test(a, g, n)"
   ]
  },
  {
   "cell_type": "code",
   "execution_count": null,
   "metadata": {},
   "outputs": [],
   "source": []
  }
 ],
 "metadata": {
  "kernelspec": {
   "display_name": "Python 3",
   "language": "python",
   "name": "python3"
  },
  "language_info": {
   "codemirror_mode": {
    "name": "ipython",
    "version": 3
   },
   "file_extension": ".py",
   "mimetype": "text/x-python",
   "name": "python",
   "nbconvert_exporter": "python",
   "pygments_lexer": "ipython3",
   "version": "3.8.3"
  }
 },
 "nbformat": 4,
 "nbformat_minor": 4
}
