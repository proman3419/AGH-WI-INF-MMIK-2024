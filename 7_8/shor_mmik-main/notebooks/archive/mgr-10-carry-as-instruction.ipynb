{
 "cells": [
  {
   "cell_type": "code",
   "execution_count": 1,
   "metadata": {},
   "outputs": [],
   "source": [
    "from qiskit import QuantumRegister, ClassicalRegister, QuantumCircuit"
   ]
  },
  {
   "cell_type": "code",
   "execution_count": 2,
   "metadata": {},
   "outputs": [],
   "source": [
    "def get_bits(x, n):\n",
    "    return [int(x) for x in '{:0{size}b}'.format(x, size=n)]"
   ]
  },
  {
   "cell_type": "code",
   "execution_count": 3,
   "metadata": {},
   "outputs": [],
   "source": [
    "def generate_carry(constant, n):\n",
    "    name = 'Carry ({0})'.format(constant) # <---\n",
    "    constant_bits = get_bits(constant, n)\n",
    "    \n",
    "    qrCtrl = QuantumRegister(1, name='ctrl')\n",
    "    qrA = QuantumRegister(n, name='a') # |a> - input register\n",
    "    qrC = QuantumRegister(1, name='c') # |c> - output register - information about carry\n",
    "    \n",
    "    # special case for n = 1: \n",
    "    if n == 1:\n",
    "        qc = QuantumCircuit(qrCtrl, qrA, qrC, name=name) # <---\n",
    "    \n",
    "        if constant_bits[0] == 1:\n",
    "            qc.ccx(qrCtrl[0], qrA[0], qrC)\n",
    "        \n",
    "        return qc.to_instruction() # <---\n",
    "    \n",
    "    # for n >= 2:\n",
    "    qrG = QuantumRegister(n-1, name='g') # |g> - dirty ancilla register, state have to be restored\n",
    "    \n",
    "    qc = QuantumCircuit(qrCtrl, qrA, qrG, qrC, name=name) # <---\n",
    "\n",
    "    qc.ccx(qrCtrl[0], qrG[n - 2], qrC)\n",
    "\n",
    "    for i in range(n - 1, 1, -1):\n",
    "        if constant_bits[n - (i + 1)] == 1:\n",
    "            qc.cx(qrA[i], qrG[i - 1])\n",
    "            qc.x(qrA[i])\n",
    "        qc.ccx(qrG[i - 2], qrA[i], qrG[i - 1])\n",
    "        \n",
    "        # qc.barrier(qrA[:], qrG[:], qrC[:])\n",
    "\n",
    "    if constant_bits[n - 2] == 1:\n",
    "        qc.cx(qrA[1], qrG[0])\n",
    "        qc.x(qrA[1])\n",
    "        \n",
    "    if constant_bits[n - 1] == 1:\n",
    "        qc.ccx(qrA[0], qrA[1], qrG[0])\n",
    "\n",
    "    for i in range(2, n):\n",
    "        qc.ccx(qrG[i - 2], qrA[i], qrG[i - 1])\n",
    "\n",
    "    # qc.barrier(qrA[:], qrG[:], qrC[:])\n",
    "\n",
    "    qc.ccx(qrCtrl[0], qrG[n - 2], qrC)\n",
    "\n",
    "    # qc.barrier(qrA[:], qrG[:], qrC[:])\n",
    "   \n",
    "    for i in range(n - 1, 1, -1):\n",
    "        qc.ccx(qrG[i - 2], qrA[i], qrG[i - 1])\n",
    "\n",
    "    if constant_bits[n - 1] == 1:\n",
    "        qc.ccx(qrA[0], qrA[1], qrG[0])\n",
    "        \n",
    "    if constant_bits[n - 2] == 1:\n",
    "        qc.x(qrA[1])\n",
    "        qc.cx(qrA[1], qrG[0])\n",
    "\n",
    "    for i in range(2, n):\n",
    "        # qc.barrier(qrA[:], qrG[:], qrC[:])\n",
    "        qc.ccx(qrG[i - 2], qrA[i], qrG[i - 1])\n",
    "        if constant_bits[n - (i + 1)] == 1:\n",
    "            qc.x(qrA[i])\n",
    "            qc.cx(qrA[i], qrG[i - 1])\n",
    "     \n",
    "    # qc.barrier(qrA[:], qrG[:], qrC[:])\n",
    "    \n",
    "    return qc.to_instruction() # <---"
   ]
  },
  {
   "cell_type": "code",
   "execution_count": 4,
   "metadata": {},
   "outputs": [],
   "source": [
    "# _qrCtrl = QuantumRegister(1, name='ctrl')\n",
    "# _qrA = QuantumRegister(4, name='a')\n",
    "# _qrG = QuantumRegister(3, name='g')\n",
    "# _qrC = QuantumRegister(1, name='c')\n",
    "\n",
    "# _qc = QuantumCircuit(_qrCtrl, _qrA, _qrG, _qrC)\n",
    "\n",
    "# carry = generate_carry(11, 4)\n",
    "\n",
    "# _qc.append(carry, _qrCtrl[:] + _qrA[:] + _qrG[:] + _qrC[:])\n",
    "# _qc.draw(output='mpl')"
   ]
  },
  {
   "cell_type": "code",
   "execution_count": 5,
   "metadata": {},
   "outputs": [],
   "source": [
    "# _dec = _qc.decompose()\n",
    "# _dec.draw(output='mpl')"
   ]
  },
  {
   "cell_type": "code",
   "execution_count": 6,
   "metadata": {},
   "outputs": [],
   "source": [
    "def generate_init_part(qc, ctrl, a, g, n):\n",
    "    a_bits = get_bits(a, n)\n",
    "    \n",
    "    if n == 1:\n",
    "        [qrCtrl, qrA, qrC] = qc.qregs\n",
    "    else:\n",
    "        [qrCtrl, qrA, qrG, qrC] = qc.qregs\n",
    "    \n",
    "    if ctrl:\n",
    "        qc.x(qrCtrl[0])\n",
    "    \n",
    "    if n == 1:        \n",
    "        if a_bits[0] == 1:\n",
    "            qc.x(qrA[0])\n",
    "        \n",
    "        qc.barrier(qrA[:])\n",
    "        return\n",
    "        \n",
    "    g_bits = get_bits(g, n - 1)\n",
    "    \n",
    "    for i in range(n):\n",
    "        if a_bits[n - (i+1)] == 1:\n",
    "            qc.x(qrA[i])\n",
    "\n",
    "    for i in range(n - 1):\n",
    "        if g_bits[n-1 - (i+1)] == 1:\n",
    "            qc.x(qrG[i])\n",
    "\n",
    "    qc.barrier(qrA[:], qrG[:])"
   ]
  },
  {
   "cell_type": "code",
   "execution_count": 7,
   "metadata": {},
   "outputs": [],
   "source": [
    "# _qrCtrl = QuantumRegister(1, name='ctrl')\n",
    "# _qrA = QuantumRegister(4, name='a')\n",
    "# _qrG = QuantumRegister(3, name='g')\n",
    "# _qrC = QuantumRegister(1, name='c')\n",
    "\n",
    "# _qc = QuantumCircuit(_qrCtrl, _qrA, _qrG, _qrC)\n",
    "\n",
    "# generate_init_part(_qc, True, 6, 5, 4)\n",
    "\n",
    "# carry = generate_carry(6, 4)\n",
    "# _qc.append(carry, _qrCtrl[:] + _qrA[:] + _qrG[:] + _qrC[:])\n",
    "\n",
    "# _qc.draw(output='mpl')"
   ]
  },
  {
   "cell_type": "code",
   "execution_count": 8,
   "metadata": {},
   "outputs": [],
   "source": [
    "def generate_measure_part(n):\n",
    "    qrA = QuantumRegister(n, name='a')\n",
    "    qrC = QuantumRegister(1, name='c')\n",
    "    crA = ClassicalRegister(n, name='aValue')\n",
    "    crC = ClassicalRegister(1, name='cValue')\n",
    "    \n",
    "    if n == 1:\n",
    "        qc = QuantumCircuit(qrA, qrC, crA, crC)\n",
    "        qc.barrier(qrA[:], qrC[:])\n",
    "        qc.measure(qrA[:], crA[:])\n",
    "        qc.measure(qrC[:], crC[:])\n",
    "        \n",
    "        return qc\n",
    "    \n",
    "    qrG = QuantumRegister(n - 1, name='g')\n",
    "    crG = ClassicalRegister(n - 1, name='gValue')\n",
    "    \n",
    "    qc = QuantumCircuit(qrA, qrG, qrC, crA, crG, crC)\n",
    "    qc.barrier(qrA[:], qrG[:], qrC[:])\n",
    "    qc.measure(qrA[:], crA[:])\n",
    "    qc.measure(qrG[:], crG[:])\n",
    "    qc.measure(qrC[:], crC[:])\n",
    "    \n",
    "    return qc"
   ]
  },
  {
   "cell_type": "code",
   "execution_count": 9,
   "metadata": {},
   "outputs": [],
   "source": [
    "# qc_meas = generate_measure_part(4)\n",
    "# qc_meas.draw(output='mpl')"
   ]
  },
  {
   "cell_type": "code",
   "execution_count": 10,
   "metadata": {},
   "outputs": [],
   "source": [
    "def test_carry(ctrl, a, constant, n, carry):\n",
    "    expected_carry = int((a + constant) / (2 ** n)) if ctrl else 0\n",
    "    print(expected_carry, carry, expected_carry == carry)"
   ]
  },
  {
   "cell_type": "code",
   "execution_count": 11,
   "metadata": {},
   "outputs": [],
   "source": [
    "# test_carry(6, 11, 4, 1)\n",
    "# test_carry(True, 6, 11, 4, 1)\n",
    "# test_carry(False, 6, 11, 4, 0)"
   ]
  },
  {
   "cell_type": "code",
   "execution_count": 12,
   "metadata": {},
   "outputs": [],
   "source": [
    "from qiskit import Aer\n",
    "from qiskit import execute\n",
    "\n",
    "backend = Aer.get_backend('qasm_simulator')"
   ]
  },
  {
   "cell_type": "code",
   "execution_count": 13,
   "metadata": {},
   "outputs": [],
   "source": [
    "# a = 6\n",
    "# g = 5\n",
    "# constant = 11\n",
    "# n = 4"
   ]
  },
  {
   "cell_type": "code",
   "execution_count": 14,
   "metadata": {},
   "outputs": [],
   "source": [
    "def test(ctrl, a, g, constant, n):\n",
    "    qrCtrl = QuantumRegister(1, name='ctrl')\n",
    "    qrA = QuantumRegister(n, name='a') \n",
    "    qrC = QuantumRegister(1, name='c')\n",
    "    \n",
    "    if n == 1:\n",
    "        qc = QuantumCircuit(qrCtrl, qrA, qrC)\n",
    "    else:\n",
    "        qrG = QuantumRegister(n - 1, name='g')\n",
    "        qc = QuantumCircuit(qrCtrl, qrA, qrG, qrC)        \n",
    "\n",
    "    generate_init_part(qc, ctrl, a, g, n)\n",
    "\n",
    "    carry = generate_carry(constant, n)\n",
    "    if n == 1:\n",
    "        qc.append(carry, qrCtrl[:] + qrA[:] + qrC[:])\n",
    "    else:\n",
    "        qc.append(carry, qrCtrl[:] + qrA[:] + qrG[:] + qrC[:])\n",
    "         \n",
    "    qc += generate_measure_part(n)\n",
    "\n",
    "    job = execute(qc, backend, shots=1)\n",
    "    result = job.result()\n",
    "    values = list(result.get_counts(qc).keys())\n",
    "\n",
    "    assert len(values) == 1\n",
    "    values = [int(v, 2) for v in values[0].split(' ')]\n",
    "\n",
    "    if n == 1:\n",
    "        c_value = values[0]\n",
    "        a_value = values[1]\n",
    "\n",
    "        print(a, a_value, a == a_value)\n",
    "        test_carry(ctrl, a, constant, n, c_value)\n",
    "    else:\n",
    "        c_value = values[0]\n",
    "        g_value = values[1]\n",
    "        a_value = values[2]\n",
    "\n",
    "        print(a, a_value, a == a_value)\n",
    "        print(g, g_value, g == g_value)\n",
    "        test_carry(ctrl, a, constant, n, c_value)"
   ]
  },
  {
   "cell_type": "code",
   "execution_count": 15,
   "metadata": {},
   "outputs": [
    {
     "name": "stderr",
     "output_type": "stream",
     "text": [
      "<ipython-input-14-cdf0f17c73ab>:20: DeprecationWarning: The QuantumCircuit.__iadd__() method is being deprecated. Use the compose() (potentially with the inplace=True argument) and tensor() methods which are more flexible w.r.t circuit register compatibility.\n",
      "  qc += generate_measure_part(n)\n",
      "/home/bartek/MGR/masterThesisProject/venv/lib/python3.8/site-packages/qiskit/circuit/quantumcircuit.py:876: DeprecationWarning: The QuantumCircuit.extend() method is being deprecated. Use the compose() (potentially with the inplace=True argument) and tensor() methods which are more flexible w.r.t circuit register compatibility.\n",
      "  return self.extend(rhs)\n"
     ]
    },
    {
     "name": "stdout",
     "output_type": "stream",
     "text": [
      "6 6 True\n",
      "5 5 True\n",
      "1 1 True\n",
      "6 6 True\n",
      "5 5 True\n",
      "0 0 True\n"
     ]
    }
   ],
   "source": [
    "test(True, 6, 5, 11, 4)\n",
    "test(False, 6, 5, 11, 4)"
   ]
  },
  {
   "cell_type": "code",
   "execution_count": 16,
   "metadata": {},
   "outputs": [],
   "source": [
    "# for n in range(4):\n",
    "#     n = n + 1\n",
    "#     G = 2 ** (n-1)\n",
    "#     N = 2 ** n\n",
    "#     for a in range(N):\n",
    "#         for g in range(G):\n",
    "#             for c in range(N):\n",
    "#                 for ctrl in range(2):\n",
    "#                     print('---', ctrl, '-', a, g, c, '---')\n",
    "#                     test(ctrl == 1, a, g, c, n)"
   ]
  },
  {
   "cell_type": "code",
   "execution_count": null,
   "metadata": {},
   "outputs": [],
   "source": []
  }
 ],
 "metadata": {
  "kernelspec": {
   "display_name": "Python 3",
   "language": "python",
   "name": "python3"
  },
  "language_info": {
   "codemirror_mode": {
    "name": "ipython",
    "version": 3
   },
   "file_extension": ".py",
   "mimetype": "text/x-python",
   "name": "python",
   "nbconvert_exporter": "python",
   "pygments_lexer": "ipython3",
   "version": "3.8.3"
  }
 },
 "nbformat": 4,
 "nbformat_minor": 4
}
