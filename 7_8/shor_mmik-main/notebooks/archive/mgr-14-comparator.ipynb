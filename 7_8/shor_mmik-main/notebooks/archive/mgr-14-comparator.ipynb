{
 "cells": [
  {
   "cell_type": "code",
   "execution_count": 1,
   "metadata": {},
   "outputs": [],
   "source": [
    "from qiskit import QuantumRegister, ClassicalRegister, QuantumCircuit"
   ]
  },
  {
   "cell_type": "code",
   "execution_count": 2,
   "metadata": {},
   "outputs": [],
   "source": [
    "def get_bits(x, n):\n",
    "    return [int(x) for x in '{:0{size}b}'.format(x, size=n)]"
   ]
  },
  {
   "cell_type": "code",
   "execution_count": 3,
   "metadata": {},
   "outputs": [],
   "source": [
    "def generate_carry(constant, n):\n",
    "    name = 'Carry ({0})'.format(constant)\n",
    "    constant_bits = get_bits(constant, n)\n",
    "    \n",
    "    qrA = QuantumRegister(n, name='a') # |a> - input register\n",
    "    qrC = QuantumRegister(1, name='c') # |c> - output register - information about carry\n",
    "    \n",
    "    # special case for n = 1: \n",
    "    if n == 1:\n",
    "        qc = QuantumCircuit(qrA, qrC, name=name)\n",
    "    \n",
    "        if constant_bits[0] == 1:\n",
    "            qc.cx(qrA[0], qrC)\n",
    "        \n",
    "        return qc.to_instruction()\n",
    "    \n",
    "    # for n >= 2:\n",
    "    qrG = QuantumRegister(n-1, name='g') # |g> - dirty ancilla register, state have to be restored\n",
    "    \n",
    "    qc = QuantumCircuit(qrA, qrG, qrC, name=name)\n",
    "\n",
    "    qc.cx(qrG[n - 2], qrC)\n",
    "\n",
    "    for i in range(n - 1, 1, -1):\n",
    "        if constant_bits[n - (i + 1)] == 1:\n",
    "            qc.cx(qrA[i], qrG[i - 1])\n",
    "            qc.x(qrA[i])\n",
    "        qc.ccx(qrG[i - 2], qrA[i], qrG[i - 1])\n",
    "\n",
    "    if constant_bits[n - 2] == 1:\n",
    "        qc.cx(qrA[1], qrG[0])\n",
    "        qc.x(qrA[1])\n",
    "        \n",
    "    if constant_bits[n - 1] == 1:\n",
    "        qc.ccx(qrA[0], qrA[1], qrG[0])\n",
    "\n",
    "    for i in range(2, n):\n",
    "        qc.ccx(qrG[i - 2], qrA[i], qrG[i - 1])\n",
    "\n",
    "    qc.cx(qrG[n - 2], qrC)\n",
    "   \n",
    "    for i in range(n - 1, 1, -1):\n",
    "        qc.ccx(qrG[i - 2], qrA[i], qrG[i - 1])\n",
    "\n",
    "    if constant_bits[n - 1] == 1:\n",
    "        qc.ccx(qrA[0], qrA[1], qrG[0])\n",
    "        \n",
    "    if constant_bits[n - 2] == 1:\n",
    "        qc.x(qrA[1])\n",
    "        qc.cx(qrA[1], qrG[0])\n",
    "\n",
    "    for i in range(2, n):\n",
    "        qc.ccx(qrG[i - 2], qrA[i], qrG[i - 1])\n",
    "        if constant_bits[n - (i + 1)] == 1:\n",
    "            qc.x(qrA[i])\n",
    "            qc.cx(qrA[i], qrG[i - 1])\n",
    "    \n",
    "    return qc.to_instruction()"
   ]
  },
  {
   "cell_type": "code",
   "execution_count": 4,
   "metadata": {},
   "outputs": [],
   "source": [
    "def generate_negation(n):\n",
    "    qrA = QuantumRegister(n, name='a')\n",
    "    \n",
    "    qc = QuantumCircuit(qrA, name='Negation')\n",
    "    \n",
    "    for i in range(n):\n",
    "        qc.x(qrA[i])\n",
    "    \n",
    "    return qc.to_instruction()"
   ]
  },
  {
   "cell_type": "code",
   "execution_count": 5,
   "metadata": {},
   "outputs": [],
   "source": [
    "def generate_comparator(constant, n):\n",
    "    name = 'Comp ({0})'.format(constant)\n",
    "    \n",
    "    qrA = QuantumRegister(n, name='a')\n",
    "    qrC = QuantumRegister(1, name='cmp')\n",
    "    \n",
    "    carry = generate_carry(constant, n)\n",
    "    neg = generate_negation(n)\n",
    "    \n",
    "    if n == 1:\n",
    "        qc = QuantumCircuit(qrA, qrC, name=name)\n",
    "        qc.append(neg, qrA[:])\n",
    "        qc.append(carry, qrA[:] + qrC[:])\n",
    "        qc.append(neg, qrA[:])\n",
    "        return qc.to_instruction()\n",
    "\n",
    "    qrG = QuantumRegister(n-1, name='g')\n",
    "    qc = QuantumCircuit(qrA, qrG, qrC, name=name)\n",
    "    \n",
    "    qc.append(neg, qrA[:])\n",
    "    qc.append(carry, qrA[:] + qrG[:] + qrC[:])\n",
    "    qc.append(neg, qrA[:])\n",
    "    \n",
    "    return qc.to_instruction()"
   ]
  },
  {
   "cell_type": "code",
   "execution_count": 6,
   "metadata": {},
   "outputs": [],
   "source": [
    "# _qrA = QuantumRegister(5, name='a')\n",
    "# _qrG = QuantumRegister(4, name='g')\n",
    "# _qrC = QuantumRegister(1, name='cmp')\n",
    "# _qc = QuantumCircuit(_qrA, _qrG, _qrC)\n",
    "\n",
    "# comp = generate_comparator(21, 5)\n",
    "# _qc.append(comp, _qrA[:] + _qrG[:] + _qrC[:])\n",
    "# _qc.draw(output='mpl')"
   ]
  },
  {
   "cell_type": "code",
   "execution_count": 7,
   "metadata": {},
   "outputs": [],
   "source": [
    "# _dec = _qc.decompose()\n",
    "# _dec.draw(output='mpl')"
   ]
  },
  {
   "cell_type": "code",
   "execution_count": 8,
   "metadata": {},
   "outputs": [],
   "source": [
    "def generate_init_part(qc, a, g, n):\n",
    "    if n == 1:\n",
    "        [qrA, qrC] = qc.qregs\n",
    "    \n",
    "        a_bits = get_bits(a, n)\n",
    "        for i in range(n):\n",
    "            if a_bits[n-(i+1)] == 1:\n",
    "                qc.x(qrA[i])\n",
    "                \n",
    "        qc.barrier(qrA[:])\n",
    "        return\n",
    "    \n",
    "    [qrA, qrG, qrC] = qc.qregs\n",
    "    \n",
    "    a_bits = get_bits(a, n)\n",
    "    g_bits = get_bits(g, n)\n",
    "    \n",
    "    for i in range(n):\n",
    "        if a_bits[n-(i+1)] == 1:\n",
    "            qc.x(qrA[i])\n",
    "\n",
    "    for i in range(n):\n",
    "        if g_bits[n-(i+1)] == 1:\n",
    "            qc.x(qrG[i])\n",
    "            \n",
    "    qc.barrier(qrA[:], qrG[:])"
   ]
  },
  {
   "cell_type": "code",
   "execution_count": 9,
   "metadata": {},
   "outputs": [],
   "source": [
    "# _qrA = QuantumRegister(3, name='a')\n",
    "# _qrG = QuantumRegister(2, name='g')\n",
    "# _qrC = QuantumRegister(1, name='cmp')\n",
    "# _qc = QuantumCircuit(_qrA, _qrG, _qrC)\n",
    "\n",
    "# generate_init_part(_qc, 6, 3, 3)\n",
    "# _qc.draw(output='mpl')"
   ]
  },
  {
   "cell_type": "code",
   "execution_count": 10,
   "metadata": {},
   "outputs": [],
   "source": [
    "def generate_measure_part(n):\n",
    "    qrA = QuantumRegister(n, name='a')\n",
    "    qrC = QuantumRegister(1, name='cmp')\n",
    "    crA = ClassicalRegister(n, name='aValue')\n",
    "    crC = ClassicalRegister(1, name='cValue')\n",
    "    \n",
    "    if n == 1:\n",
    "        qc = QuantumCircuit(qrA, qrC, crA, crC)\n",
    "        qc.barrier(qrA[:], qrC[:])\n",
    "        qc.measure(qrA[:], crA[:])\n",
    "        qc.measure(qrC[:], crC[:])\n",
    "        \n",
    "        return qc\n",
    "    \n",
    "    qrG = QuantumRegister(n - 1, name='g')\n",
    "    crG = ClassicalRegister(n - 1, name='gValue')\n",
    "    \n",
    "    qc = QuantumCircuit(qrA, qrG, qrC, crA, crG, crC)\n",
    "    qc.barrier(qrA[:], qrG[:], qrC[:])\n",
    "    qc.measure(qrA[:], crA[:])\n",
    "    qc.measure(qrG[:], crG[:])\n",
    "    qc.measure(qrC[:], crC[:])\n",
    "    \n",
    "    return qc"
   ]
  },
  {
   "cell_type": "code",
   "execution_count": 11,
   "metadata": {},
   "outputs": [],
   "source": [
    "def test_cmp(a, constant, n, cmp_value):\n",
    "    expected_value = 1 if a < constant else 0\n",
    "    print(expected_value, cmp_value, expected_value == cmp_value)"
   ]
  },
  {
   "cell_type": "code",
   "execution_count": 12,
   "metadata": {},
   "outputs": [
    {
     "name": "stdout",
     "output_type": "stream",
     "text": [
      "1 1 True\n",
      "1 0 False\n"
     ]
    }
   ],
   "source": [
    "test_cmp(6, 11, 4, 1)\n",
    "test_cmp(6, 11, 4, 0)"
   ]
  },
  {
   "cell_type": "code",
   "execution_count": 13,
   "metadata": {},
   "outputs": [],
   "source": [
    "from qiskit import Aer\n",
    "from qiskit import execute\n",
    "\n",
    "backend = Aer.get_backend('qasm_simulator')"
   ]
  },
  {
   "cell_type": "code",
   "execution_count": 14,
   "metadata": {},
   "outputs": [],
   "source": [
    "def test(a, g, constant, n):\n",
    "    qrA = QuantumRegister(n, name='a')\n",
    "    qrC = QuantumRegister(1, 'cmp')\n",
    "    \n",
    "    if n == 1:\n",
    "        qc = QuantumCircuit(qrA, qrC)\n",
    "    else:\n",
    "        qrG = QuantumRegister(n-1, name='g')\n",
    "        qc = QuantumCircuit(qrA, qrG, qrC)\n",
    "        \n",
    "    generate_init_part(qc, a, g, n)\n",
    "    if n == 1:\n",
    "        qc.append(generate_comparator(constant, n), qrA[:] + qrC[:])\n",
    "    else:\n",
    "        qc.append(generate_comparator(constant, n), qrA[:] + qrG[:] + qrC[:])\n",
    "        \n",
    "    qc += generate_measure_part(n)\n",
    "\n",
    "    job = execute(qc, backend, shots=1)\n",
    "    result = job.result()\n",
    "    values = list(result.get_counts(qc).keys())\n",
    "\n",
    "    assert len(values) == 1\n",
    "    values = [int(v, 2) for v in values[0].split(' ')]\n",
    "\n",
    "    if n == 1:\n",
    "        c_value = values[0]\n",
    "        a_value = values[1]\n",
    "\n",
    "        print(a, a_value, a == a_value)\n",
    "        test_cmp(a, constant, n, c_value)\n",
    "    else:\n",
    "        c_value = values[0]\n",
    "        g_value = values[1]\n",
    "        a_value = values[2]\n",
    "\n",
    "        print(a, a_value, a == a_value)\n",
    "        print(g, g_value, g == g_value)\n",
    "        test_cmp(a, constant, n, c_value)"
   ]
  },
  {
   "cell_type": "code",
   "execution_count": 15,
   "metadata": {},
   "outputs": [
    {
     "name": "stderr",
     "output_type": "stream",
     "text": [
      "<ipython-input-14-71b1cd239d15>:17: DeprecationWarning: The QuantumCircuit.__iadd__() method is being deprecated. Use the compose() (potentially with the inplace=True argument) and tensor() methods which are more flexible w.r.t circuit register compatibility.\n",
      "  qc += generate_measure_part(n)\n",
      "/home/bartek/MGR/masterThesisProject/venv/lib/python3.8/site-packages/qiskit/circuit/quantumcircuit.py:876: DeprecationWarning: The QuantumCircuit.extend() method is being deprecated. Use the compose() (potentially with the inplace=True argument) and tensor() methods which are more flexible w.r.t circuit register compatibility.\n",
      "  return self.extend(rhs)\n"
     ]
    },
    {
     "name": "stdout",
     "output_type": "stream",
     "text": [
      "6 6 True\n",
      "5 5 True\n",
      "1 1 True\n"
     ]
    }
   ],
   "source": [
    "test(6, 5, 11, 4)"
   ]
  },
  {
   "cell_type": "code",
   "execution_count": 16,
   "metadata": {},
   "outputs": [],
   "source": [
    "# for n in range(5):\n",
    "#     n = n + 1\n",
    "#     print(n)\n",
    "#     G = 2 ** (n-1)\n",
    "#     N = 2 ** n\n",
    "    \n",
    "#     for a in range(N):\n",
    "#         for g in range(G):\n",
    "#             for c in range(N):\n",
    "#                 print('---', a, g, c, '---')\n",
    "#                 test(a, g, c, n)"
   ]
  },
  {
   "cell_type": "code",
   "execution_count": null,
   "metadata": {},
   "outputs": [],
   "source": []
  }
 ],
 "metadata": {
  "kernelspec": {
   "display_name": "Python 3",
   "language": "python",
   "name": "python3"
  },
  "language_info": {
   "codemirror_mode": {
    "name": "ipython",
    "version": 3
   },
   "file_extension": ".py",
   "mimetype": "text/x-python",
   "name": "python",
   "nbconvert_exporter": "python",
   "pygments_lexer": "ipython3",
   "version": "3.8.3"
  }
 },
 "nbformat": 4,
 "nbformat_minor": 4
}
