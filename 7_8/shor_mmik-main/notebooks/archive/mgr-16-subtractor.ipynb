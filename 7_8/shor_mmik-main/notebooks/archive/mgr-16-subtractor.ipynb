{
 "cells": [
  {
   "cell_type": "code",
   "execution_count": 1,
   "metadata": {},
   "outputs": [],
   "source": [
    "from qiskit import QuantumRegister, ClassicalRegister, QuantumCircuit"
   ]
  },
  {
   "cell_type": "code",
   "execution_count": 2,
   "metadata": {},
   "outputs": [],
   "source": [
    "def split(reg):\n",
    "    n = reg.size\n",
    "    i = n // 2 + n % 2\n",
    "    return reg[:i], reg[i:]"
   ]
  },
  {
   "cell_type": "code",
   "execution_count": 3,
   "metadata": {},
   "outputs": [
    {
     "name": "stdout",
     "output_type": "stream",
     "text": [
      "[Qubit(QuantumRegister(5, 'q0'), 0), Qubit(QuantumRegister(5, 'q0'), 1), Qubit(QuantumRegister(5, 'q0'), 2)]\n",
      "[Qubit(QuantumRegister(5, 'q0'), 3), Qubit(QuantumRegister(5, 'q0'), 4)]\n"
     ]
    }
   ],
   "source": [
    "_qr = QuantumRegister(5)\n",
    "B, C = split(_qr)\n",
    "print(B)\n",
    "print(C)"
   ]
  },
  {
   "cell_type": "code",
   "execution_count": 4,
   "metadata": {},
   "outputs": [],
   "source": [
    "# _x = 21 # 10101\n",
    "\n",
    "# _x % (2 ** 3)\n",
    "\n",
    "# _x & (2 ** 3 - 1)\n",
    "\n",
    "# _x & ((1 << 3) - 1)\n",
    "\n",
    "# _x >> 3 "
   ]
  },
  {
   "cell_type": "code",
   "execution_count": 5,
   "metadata": {},
   "outputs": [],
   "source": [
    "def get_bits(x, n):\n",
    "    return [int(x) for x in '{:0{size}b}'.format(x, size=n)]"
   ]
  },
  {
   "cell_type": "code",
   "execution_count": 6,
   "metadata": {},
   "outputs": [],
   "source": [
    "def generate_carry(constant, n):\n",
    "    name = 'Carry ({0})'.format(constant)\n",
    "    constant_bits = get_bits(constant, n)\n",
    "    \n",
    "    qrCtrl = QuantumRegister(1, name='ctrl')\n",
    "    qrA = QuantumRegister(n, name='a') # |a> - input register\n",
    "    qrC = QuantumRegister(1, name='c') # |c> - output register - information about carry\n",
    "    \n",
    "    # special case for n = 1: \n",
    "    if n == 1:\n",
    "#         qrG = QuantumRegister(1, name='g') # for simplicity, unused\n",
    "#         qc = QuantumCircuit(qrCtrl, qrA, qrG, qrC, name=name)\n",
    "        qc = QuantumCircuit(qrCtrl, qrA, qrC, name=name)\n",
    "    \n",
    "        if constant_bits[0] == 1:\n",
    "            qc.ccx(qrCtrl[0], qrA[0], qrC)\n",
    "        \n",
    "        return qc.to_instruction()\n",
    "    \n",
    "    # for n >= 2:\n",
    "    qrG = QuantumRegister(n-1, name='g') # |g> - dirty ancilla register, state have to be restored\n",
    "    \n",
    "    qc = QuantumCircuit(qrCtrl, qrA, qrG, qrC, name=name)\n",
    "\n",
    "    qc.ccx(qrCtrl[0], qrG[n - 2], qrC)\n",
    "\n",
    "    for i in range(n - 1, 1, -1):\n",
    "        if constant_bits[n - (i + 1)] == 1:\n",
    "            qc.cx(qrA[i], qrG[i - 1])\n",
    "            qc.x(qrA[i])\n",
    "        qc.ccx(qrG[i - 2], qrA[i], qrG[i - 1])\n",
    "\n",
    "    if constant_bits[n - 2] == 1:\n",
    "        qc.cx(qrA[1], qrG[0])\n",
    "        qc.x(qrA[1])\n",
    "        \n",
    "    if constant_bits[n - 1] == 1:\n",
    "        qc.ccx(qrA[0], qrA[1], qrG[0])\n",
    "\n",
    "    for i in range(2, n):\n",
    "        qc.ccx(qrG[i - 2], qrA[i], qrG[i - 1])\n",
    "\n",
    "    qc.ccx(qrCtrl[0], qrG[n - 2], qrC)\n",
    "   \n",
    "    for i in range(n - 1, 1, -1):\n",
    "        qc.ccx(qrG[i - 2], qrA[i], qrG[i - 1])\n",
    "\n",
    "    if constant_bits[n - 1] == 1:\n",
    "        qc.ccx(qrA[0], qrA[1], qrG[0])\n",
    "        \n",
    "    if constant_bits[n - 2] == 1:\n",
    "        qc.x(qrA[1])\n",
    "        qc.cx(qrA[1], qrG[0])\n",
    "\n",
    "    for i in range(2, n):\n",
    "        qc.ccx(qrG[i - 2], qrA[i], qrG[i - 1])\n",
    "        if constant_bits[n - (i + 1)] == 1:\n",
    "            qc.x(qrA[i])\n",
    "            qc.cx(qrA[i], qrG[i - 1])\n",
    "    \n",
    "    return qc.to_instruction()"
   ]
  },
  {
   "cell_type": "code",
   "execution_count": 7,
   "metadata": {},
   "outputs": [],
   "source": [
    "def generate_substractor(n):\n",
    "    qrCtrl = QuantumRegister(1, name='ctrl')\n",
    "    qrX = QuantumRegister(n, name='g')\n",
    "    qrY = QuantumRegister(n, name='a')\n",
    "        \n",
    "    qc = QuantumCircuit(qrCtrl, qrY, qrX)\n",
    "    \n",
    "    # 3.6\n",
    "    for i in range(n-1, 0, -1):\n",
    "        qc.cx(qrX[i], qrY[i])\n",
    "        \n",
    "    qc.ccx(qrCtrl[0], qrX[0], qrY[0])\n",
    "    \n",
    "    # 3.5\n",
    "    for i in range(n-1, 1, -1):\n",
    "        qc.cx(qrX[i-1], qrX[i])\n",
    "\n",
    "    # 3.4\n",
    "    for i in range(1, n):\n",
    "        qc.ccx(qrX[i-1], qrY[i-1], qrX[i])\n",
    "        \n",
    "        qc.ccx(qrCtrl[0], qrX[i], qrY[i])\n",
    "\n",
    "    # 3.3\n",
    "    for i in range(n-1, 0, -1):\n",
    "        qc.ccx(qrX[i-1], qrY[i-1], qrX[i])\n",
    "\n",
    "    # 3.2\n",
    "    for i in range(1, n-1):\n",
    "        qc.cx(qrX[i], qrX[i+1])\n",
    "\n",
    "    # 3.1\n",
    "    for i in range(n-1, 0, -1):\n",
    "        qc.cx(qrX[i], qrY[i])\n",
    "        \n",
    "    return qc\n",
    "\n",
    "def generate_negation_part(n):\n",
    "    qrG = QuantumRegister(n, name='g')\n",
    "    \n",
    "    qc = QuantumCircuit(qrG)\n",
    "    \n",
    "    qc.barrier(qrG[:])\n",
    "    for i in range(n):\n",
    "        qc.x(qrG[i])\n",
    "    qc.barrier(qrG[:])\n",
    "    \n",
    "    return qc\n",
    "\n",
    "def generate_incrementator(n):\n",
    "    qc_sub = generate_substractor(n)\n",
    "    qc_neg = generate_negation_part(n)\n",
    "    \n",
    "    qc = qc_sub + qc_neg + qc_sub + qc_neg\n",
    "    qc.name = 'Inc'\n",
    "    return qc.to_instruction()"
   ]
  },
  {
   "cell_type": "code",
   "execution_count": 8,
   "metadata": {},
   "outputs": [],
   "source": [
    "def generate_controlled_negation(n):\n",
    "    qrCtrl = QuantumRegister(1, name='ctrl')\n",
    "    qrG = QuantumRegister(n, name='g')\n",
    "    \n",
    "    qc = QuantumCircuit(qrCtrl, qrG)\n",
    "    \n",
    "    qc.barrier(qrG[:])\n",
    "    for i in range(n):\n",
    "        qc.cx(qrCtrl[0], qrG[i])\n",
    "    qc.barrier(qrG[:])\n",
    "    \n",
    "    return qc.to_instruction()"
   ]
  },
  {
   "cell_type": "code",
   "execution_count": 9,
   "metadata": {},
   "outputs": [],
   "source": [
    "def generate_adder(constant, n):\n",
    "    \n",
    "    name = 'Add ({0})'.format(constant)\n",
    "#     print('generating', name, n)\n",
    "    \n",
    "    qrCtrl = QuantumRegister(1, 'ctrl')\n",
    "    qrX = QuantumRegister(n, 'x')\n",
    "    qrC = QuantumRegister(1, 'carry')\n",
    "    \n",
    "    qc = QuantumCircuit(qrCtrl, qrX, qrC, name=name)\n",
    "    \n",
    "    if n == 1:\n",
    "        if constant == 1:\n",
    "            qc.cx(qrCtrl[0], qrX[0])\n",
    "        return qc.to_instruction()\n",
    "    \n",
    "    i = n // 2 + n % 2\n",
    "    \n",
    "    low = constant & ((1 << i) - 1)\n",
    "    high = constant >> i\n",
    "    \n",
    "#     print(i, low, high)\n",
    "    \n",
    "    qrX_L = qrX[:i]\n",
    "    qrX_H = qrX[i:]\n",
    "    \n",
    "#     print(qrX_L)\n",
    "#     print(qrX_H)\n",
    "#     print(qrX_L[:len(qrX_H)])\n",
    "    \n",
    "    carry = generate_carry(low, i)\n",
    "    inc = generate_incrementator(n - i)\n",
    "    neg = generate_controlled_negation(n - i)\n",
    "    \n",
    "    qc.append(inc, qrC[:] + qrX_H[:] + qrX_L[:len(qrX_H)])\n",
    "    qc.append(neg, qrC[:] + qrX_H[:])\n",
    "    \n",
    "    qc.append(carry, qrCtrl[:] + qrX_L[:] + qrX_H[:(i-1)] + qrC[:])\n",
    "    qc.append(inc, qrC[:] + qrX_H[:] + qrX_L[:len(qrX_H)])\n",
    "    qc.append(carry, qrCtrl[:] + qrX_L[:] + qrX_H[:(i-1)] + qrC[:])\n",
    "    \n",
    "    qc.append(neg, qrC[:] + qrX_H[:])\n",
    "    \n",
    "    qc.append(generate_adder(low, i), qrCtrl[:] + qrX[:i] + qrC[:])\n",
    "    qc.append(generate_adder(high, n - i), qrCtrl[:] + qrX[i:] + qrC[:])\n",
    "    \n",
    "    return qc.to_instruction()"
   ]
  },
  {
   "cell_type": "code",
   "execution_count": 10,
   "metadata": {},
   "outputs": [],
   "source": [
    "def generate_constant_substractor(constant, n):\n",
    "    adder = generate_adder(constant, n)\n",
    "    return adder.inverse()"
   ]
  },
  {
   "cell_type": "code",
   "execution_count": 11,
   "metadata": {},
   "outputs": [],
   "source": [
    "# _qrCtrl = QuantumRegister(1, name='ctrl')\n",
    "# _qrA = QuantumRegister(5, name='a')\n",
    "# _qrC = QuantumRegister(1, name='carry')\n",
    "# _qc = QuantumCircuit(_qrCtrl, _qrA, _qrC)\n",
    "\n",
    "# adder = generate_constant_substractor(21, 5)\n",
    "# _qc.append(adder, _qrCtrl[:] + _qrA[:] + _qrC[:])\n",
    "# _qc.draw(output='mpl')"
   ]
  },
  {
   "cell_type": "code",
   "execution_count": 12,
   "metadata": {},
   "outputs": [],
   "source": [
    "# _dec = _qc.decompose()\n",
    "# _dec.draw(output='mpl')"
   ]
  },
  {
   "cell_type": "code",
   "execution_count": 13,
   "metadata": {},
   "outputs": [],
   "source": [
    "def generate_init_part(qc, ctrl, a, g, n):\n",
    "    [qrCtrl, qrA, qrC] = qc.qregs\n",
    "    \n",
    "    a_bits = get_bits(a, n)\n",
    "        \n",
    "    if ctrl:\n",
    "        qc.x(qrCtrl[0])\n",
    "    \n",
    "    for i in range(n):\n",
    "        if a_bits[n-(i+1)] == 1:\n",
    "            qc.x(qrA[i])\n",
    "\n",
    "    if g == 1:\n",
    "        qc.x(qrC[0])\n",
    "            \n",
    "    qc.barrier(qrCtrl[:], qrA[:])"
   ]
  },
  {
   "cell_type": "code",
   "execution_count": 14,
   "metadata": {},
   "outputs": [],
   "source": [
    "# _qrCtrl = QuantumRegister(1, name='ctrl')\n",
    "# _qrA = QuantumRegister(3, name='a')\n",
    "# _qrC = QuantumRegister(1, name='carry')\n",
    "# _qc = QuantumCircuit(_qrCtrl, _qrA, _qrC)\n",
    "\n",
    "# generate_init_part(_qc, True, 5, 3)\n",
    "# _qc.draw(output='mpl')"
   ]
  },
  {
   "cell_type": "code",
   "execution_count": 15,
   "metadata": {},
   "outputs": [],
   "source": [
    "def generate_measure_part(n):\n",
    "    qrX = QuantumRegister(n, name='x')\n",
    "    qrC = QuantumRegister(1, name='carry')\n",
    "    crX = ClassicalRegister(n, name='xValue')\n",
    "    crC = ClassicalRegister(1, name='cValue')\n",
    "\n",
    "    qc = QuantumCircuit(qrX, qrC, crX, crC)\n",
    "    qc.barrier(qrX[:], qrC[:])\n",
    "    qc.measure(qrX[:], crX[:])\n",
    "    qc.measure(qrC[:], crC[:])\n",
    "    \n",
    "    return qc"
   ]
  },
  {
   "cell_type": "code",
   "execution_count": 16,
   "metadata": {},
   "outputs": [],
   "source": [
    "# qc_meas = generate_measure_part(3)\n",
    "# qc_meas.draw(output='mpl')"
   ]
  },
  {
   "cell_type": "code",
   "execution_count": 17,
   "metadata": {},
   "outputs": [],
   "source": [
    "from qiskit import Aer\n",
    "from qiskit import execute\n",
    "\n",
    "backend = Aer.get_backend('qasm_simulator')"
   ]
  },
  {
   "cell_type": "code",
   "execution_count": 18,
   "metadata": {},
   "outputs": [],
   "source": [
    "def test_substraction(ctrl, a, constant, n, a_value):\n",
    "    expected_value = (a - constant) % (2 ** n) if ctrl else a\n",
    "    print(expected_value, a_value, expected_value == a_value)"
   ]
  },
  {
   "cell_type": "code",
   "execution_count": 19,
   "metadata": {},
   "outputs": [
    {
     "name": "stdout",
     "output_type": "stream",
     "text": [
      "25 25 True\n",
      "14 14 True\n"
     ]
    }
   ],
   "source": [
    "test_substraction(True, 14, 21, 5, 25)\n",
    "test_substraction(False, 14, 21, 5, 14)"
   ]
  },
  {
   "cell_type": "code",
   "execution_count": 20,
   "metadata": {},
   "outputs": [],
   "source": [
    "def test(ctrl, x, constant, g, n):\n",
    "    qrCtrl = QuantumRegister(1, name='ctrl')\n",
    "    qrX = QuantumRegister(n, name='x')\n",
    "    qrC = QuantumRegister(1, 'carry')\n",
    "    \n",
    "    qc = QuantumCircuit(qrCtrl, qrX, qrC)\n",
    "    \n",
    "    generate_init_part(qc, ctrl, x, g, n)\n",
    "    qc.append(generate_constant_substractor(constant, n), qrCtrl[:] + qrX[:] + qrC[:])\n",
    "    qc += generate_measure_part(n)\n",
    "\n",
    "    job = execute(qc, backend, shots=1)\n",
    "    result = job.result()\n",
    "    values = list(result.get_counts(qc).keys())\n",
    "\n",
    "    assert len(values) == 1\n",
    "    values = [int(v, 2) for v in values[0].split(' ')]\n",
    "\n",
    "    c_value = values[0]\n",
    "    x_value = values[1]\n",
    "\n",
    "    test_substraction(ctrl, x, constant, n, x_value)\n",
    "    print(g, c_value, g == c_value)"
   ]
  },
  {
   "cell_type": "code",
   "execution_count": 21,
   "metadata": {},
   "outputs": [
    {
     "name": "stderr",
     "output_type": "stream",
     "text": [
      "<ipython-input-7-7e1d57df6cd4>:54: DeprecationWarning: The QuantumCircuit.__add__() method is being deprecated.Use the compose() method which is more flexible w.r.t circuit register compatibility.\n",
      "  qc = qc_sub + qc_neg + qc_sub + qc_neg\n",
      "/home/bartek/S10/MGR/masterThesisProject/venv/lib/python3.8/site-packages/qiskit/circuit/quantumcircuit.py:869: DeprecationWarning: The QuantumCircuit.combine() method is being deprecated. Use the compose() method which is more flexible w.r.t circuit register compatibility.\n",
      "  return self.combine(rhs)\n",
      "<ipython-input-20-9441eefa58f0>:10: DeprecationWarning: The QuantumCircuit.__iadd__() method is being deprecated. Use the compose() (potentially with the inplace=True argument) and tensor() methods which are more flexible w.r.t circuit register compatibility.\n",
      "  qc += generate_measure_part(n)\n",
      "/home/bartek/S10/MGR/masterThesisProject/venv/lib/python3.8/site-packages/qiskit/circuit/quantumcircuit.py:876: DeprecationWarning: The QuantumCircuit.extend() method is being deprecated. Use the compose() (potentially with the inplace=True argument) and tensor() methods which are more flexible w.r.t circuit register compatibility.\n",
      "  return self.extend(rhs)\n"
     ]
    },
    {
     "name": "stdout",
     "output_type": "stream",
     "text": [
      "9 9 True\n",
      "0 0 True\n",
      "9 9 True\n",
      "1 1 True\n"
     ]
    }
   ],
   "source": [
    "test(True, 14, 5, 0, 4)\n",
    "test(True, 14, 5, 1, 4)"
   ]
  },
  {
   "cell_type": "code",
   "execution_count": 22,
   "metadata": {},
   "outputs": [],
   "source": [
    "# for n in range(5):\n",
    "#     n = n + 1\n",
    "#     print(n)\n",
    "#     N = 2 ** n\n",
    "#     for ctrl in range(2):\n",
    "#         for a in range(N):\n",
    "#             for c in range(N):\n",
    "#                 for g in range(2):\n",
    "#                     print('---', ctrl, '-', a, c, g, '---')\n",
    "#                     test(ctrl == 1, a, c, g, n)"
   ]
  },
  {
   "cell_type": "code",
   "execution_count": null,
   "metadata": {},
   "outputs": [],
   "source": []
  }
 ],
 "metadata": {
  "kernelspec": {
   "display_name": "Python 3",
   "language": "python",
   "name": "python3"
  },
  "language_info": {
   "codemirror_mode": {
    "name": "ipython",
    "version": 3
   },
   "file_extension": ".py",
   "mimetype": "text/x-python",
   "name": "python",
   "nbconvert_exporter": "python",
   "pygments_lexer": "ipython3",
   "version": "3.8.5"
  }
 },
 "nbformat": 4,
 "nbformat_minor": 4
}
