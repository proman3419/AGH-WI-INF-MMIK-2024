{
 "cells": [
  {
   "cell_type": "code",
   "execution_count": 1,
   "metadata": {},
   "outputs": [],
   "source": [
    "from qiskit import QuantumRegister, QuantumCircuit, ClassicalRegister, AncillaRegister"
   ]
  },
  {
   "cell_type": "code",
   "execution_count": 2,
   "metadata": {},
   "outputs": [],
   "source": [
    "def triple_controlled_not():\n",
    "    ctrl_qreg = QuantumRegister(3, 'ctrl')\n",
    "    x_qreg = QuantumRegister(1, 'x')\n",
    "    g_qreg = AncillaRegister(1, 'g')\n",
    "\n",
    "    circuit = QuantumCircuit(ctrl_qreg, x_qreg, g_qreg, name='CCCX')\n",
    "\n",
    "    for _ in range(2):\n",
    "        circuit.ccx(ctrl_qreg[0], ctrl_qreg[1], g_qreg[0])\n",
    "        circuit.ccx(ctrl_qreg[2], g_qreg[0], x_qreg[0])\n",
    "\n",
    "    return circuit.to_gate()"
   ]
  },
  {
   "cell_type": "code",
   "execution_count": 3,
   "metadata": {},
   "outputs": [],
   "source": [
    "# _qrCtrl = QuantumRegister(3, name='ctrl')\n",
    "# _qrX = QuantumRegister(1, name='x')\n",
    "# _qrG = QuantumRegister(1, name='g')\n",
    "# _qc = QuantumCircuit(_qrCtrl, _qrX, _qrG)\n",
    "\n",
    "# cccx = triple_controlled_not()\n",
    "# _qc.append(cccx, _qrCtrl[:] + _qrX[:] + _qrG[:])\n",
    "# _qc.draw(output='mpl')"
   ]
  },
  {
   "cell_type": "code",
   "execution_count": 4,
   "metadata": {},
   "outputs": [],
   "source": [
    "# _dec = _qc.decompose()\n",
    "# _dec.draw(output='mpl')"
   ]
  },
  {
   "cell_type": "code",
   "execution_count": 5,
   "metadata": {},
   "outputs": [],
   "source": [
    "def get_bits(x, n):\n",
    "    return [int(x) for x in '{:0{size}b}'.format(x, size=n)]"
   ]
  },
  {
   "cell_type": "code",
   "execution_count": 6,
   "metadata": {},
   "outputs": [],
   "source": [
    "def init(ctrl, x, g):\n",
    "    n = 3\n",
    "    \n",
    "    qrCtrl = QuantumRegister(n, name='ctrl')\n",
    "    qrX = QuantumRegister(1, name='x')\n",
    "    qrG = QuantumRegister(1, name='g')\n",
    "    qc = QuantumCircuit(qrCtrl, qrX, qrG)\n",
    "    \n",
    "    \n",
    "    ctrl_bits = get_bits(ctrl, n)\n",
    "    for i in range(n):\n",
    "        if ctrl_bits[n-(i+1)] == 1:\n",
    "            qc.x(qrCtrl[i])\n",
    "    \n",
    "    if x == 1:\n",
    "        qc.x(qrX[0])\n",
    "                \n",
    "    if g == 1:\n",
    "        qc.x(qrG[0])\n",
    "\n",
    "    qc.barrier(qrCtrl[:], qrX[:], qrG[:])\n",
    "        \n",
    "    return qc"
   ]
  },
  {
   "cell_type": "code",
   "execution_count": 7,
   "metadata": {},
   "outputs": [],
   "source": [
    "# init(7, 1, 0).draw(output='mpl')"
   ]
  },
  {
   "cell_type": "code",
   "execution_count": 8,
   "metadata": {},
   "outputs": [],
   "source": [
    "def measure():\n",
    "    qrX = QuantumRegister(1, name='x')\n",
    "    qrG = QuantumRegister(1, name='g')\n",
    "    \n",
    "    crX = ClassicalRegister(1, name='xValue')\n",
    "    crG = ClassicalRegister(1, name='gValue')\n",
    "    \n",
    "    qc = QuantumCircuit(qrX, qrG, crX, crG)\n",
    "    qc.barrier(qrX[:], qrG[:])\n",
    "    \n",
    "    qc.measure(qrX[:], crX[:])\n",
    "    qc.measure(qrG[:], crG[:])\n",
    "    \n",
    "    return qc"
   ]
  },
  {
   "cell_type": "code",
   "execution_count": 9,
   "metadata": {},
   "outputs": [],
   "source": [
    "# measure().draw(output='mpl')"
   ]
  },
  {
   "cell_type": "code",
   "execution_count": 10,
   "metadata": {},
   "outputs": [],
   "source": [
    "def test_triple_controlled_negation(ctrl, x, value):\n",
    "    expected_value = (x + 1) % 2 if ctrl == 7 else x\n",
    "    print(expected_value, value, expected_value == value)"
   ]
  },
  {
   "cell_type": "code",
   "execution_count": 11,
   "metadata": {},
   "outputs": [
    {
     "name": "stdout",
     "output_type": "stream",
     "text": [
      "0 0 True\n"
     ]
    }
   ],
   "source": [
    "test_triple_controlled_negation(7, 1, 0)"
   ]
  },
  {
   "cell_type": "code",
   "execution_count": 12,
   "metadata": {},
   "outputs": [],
   "source": [
    "from qiskit import Aer\n",
    "from qiskit import execute\n",
    "\n",
    "backend = Aer.get_backend('qasm_simulator')"
   ]
  },
  {
   "cell_type": "code",
   "execution_count": 13,
   "metadata": {},
   "outputs": [],
   "source": [
    "def test(ctrl, x, g):\n",
    "    qrCtrl = QuantumRegister(3, name='ctrl')\n",
    "    qrX = QuantumRegister(1, name='x')\n",
    "    qrG = QuantumRegister(1, name='g')\n",
    "    \n",
    "    qc = QuantumCircuit(qrCtrl, qrX, qrG)\n",
    "        \n",
    "    qc += init(ctrl, x, g)\n",
    "    \n",
    "    qc.append(\n",
    "        triple_controlled_not(),\n",
    "        qrCtrl[:] + qrX[:] + qrG[:]\n",
    "    )\n",
    "        \n",
    "    qc += measure()\n",
    "\n",
    "    job = execute(qc, backend, shots=1)\n",
    "    result = job.result()\n",
    "    values = list(result.get_counts(qc).keys())\n",
    "\n",
    "    assert len(values) == 1\n",
    "    values = [int(v, 2) for v in values[0].split(' ')]\n",
    "\n",
    "    g_value = values[0]\n",
    "    x_value = values[1]\n",
    "\n",
    "    print(g, g_value, g == g_value)\n",
    "    test_triple_controlled_negation(ctrl, x, x_value)\n",
    "        \n",
    "    return qc"
   ]
  },
  {
   "cell_type": "code",
   "execution_count": 14,
   "metadata": {},
   "outputs": [
    {
     "name": "stderr",
     "output_type": "stream",
     "text": [
      "<ipython-input-13-49506d230798>:8: DeprecationWarning: The QuantumCircuit.__iadd__() method is being deprecated. Use the compose() (potentially with the inplace=True argument) and tensor() methods which are more flexible w.r.t circuit register compatibility.\n",
      "  qc += init(ctrl, x, g)\n",
      "/home/bartek/S10/MGR/masterThesisProject/venv/lib/python3.8/site-packages/qiskit/circuit/quantumcircuit.py:876: DeprecationWarning: The QuantumCircuit.extend() method is being deprecated. Use the compose() (potentially with the inplace=True argument) and tensor() methods which are more flexible w.r.t circuit register compatibility.\n",
      "  return self.extend(rhs)\n"
     ]
    },
    {
     "name": "stdout",
     "output_type": "stream",
     "text": [
      "0 0 True\n",
      "0 0 True\n"
     ]
    }
   ],
   "source": [
    "_qc = test(7, 1, 0)"
   ]
  },
  {
   "cell_type": "code",
   "execution_count": 15,
   "metadata": {},
   "outputs": [],
   "source": [
    "# _dec = _qc.decompose()\n",
    "# _dec.draw(output='mpl')"
   ]
  },
  {
   "cell_type": "code",
   "execution_count": 16,
   "metadata": {},
   "outputs": [],
   "source": [
    "# for ctrl in reversed(range(8)):\n",
    "#     for x in range(2):\n",
    "#         for g in range(2):\n",
    "#             print('---', ctrl, '-', x, g, '---')\n",
    "#             test(ctrl, x, g)"
   ]
  },
  {
   "cell_type": "code",
   "execution_count": null,
   "metadata": {},
   "outputs": [],
   "source": []
  }
 ],
 "metadata": {
  "kernelspec": {
   "display_name": "Python 3",
   "language": "python",
   "name": "python3"
  },
  "language_info": {
   "codemirror_mode": {
    "name": "ipython",
    "version": 3
   },
   "file_extension": ".py",
   "mimetype": "text/x-python",
   "name": "python",
   "nbconvert_exporter": "python",
   "pygments_lexer": "ipython3",
   "version": "3.8.5"
  }
 },
 "nbformat": 4,
 "nbformat_minor": 4
}
