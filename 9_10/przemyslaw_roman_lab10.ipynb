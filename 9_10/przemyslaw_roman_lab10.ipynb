{
 "cells": [
  {
   "cell_type": "markdown",
   "id": "1e0ac53e-7e02-4500-a594-b6499679413c",
   "metadata": {
    "id": "1e0ac53e-7e02-4500-a594-b6499679413c"
   },
   "source": [
    "## Zadanie 1 - Zaimplementuj i uruchom algorytm Grovera dla n=2 (z zadania domowego) (1pkt)"
   ]
  },
  {
   "cell_type": "code",
   "execution_count": 11,
   "id": "0ff39b5c-05c9-4e7a-81c0-432269b24365",
   "metadata": {
    "colab": {
     "base_uri": "https://localhost:8080/"
    },
    "id": "0ff39b5c-05c9-4e7a-81c0-432269b24365",
    "outputId": "b13e2c5c-e941-49b8-f253-1b2c5e7269da",
    "ExecuteTime": {
     "end_time": "2024-05-14T16:23:32.148627Z",
     "start_time": "2024-05-14T16:23:32.132435Z"
    }
   },
   "outputs": [
    {
     "data": {
      "text/plain": "     ┌────────────────────┐┌───┐ ░ ┌───┐     ┌───┐ ░ ┌───┐┌───┐          ┌───┐»\nq_0: ┤0                   ├┤ H ├─░─┤ X ├──■──┤ X ├─░─┤ H ├┤ X ├───────■──┤ X ├»\n     │                    │├───┤ ░ └───┘  │  └───┘ ░ ├───┤├───┤┌───┐┌─┴─┐├───┤»\nq_1: ┤1 Initialize(1,0,0) ├┤ H ├─░────────■────────░─┤ H ├┤ X ├┤ H ├┤ X ├┤ H ├»\n     │                    │├───┤ ░      ┌─┴─┐      ░ └───┘└───┘└───┘└───┘└───┘»\nq_2: ┤2                   ├┤ H ├─░──────┤ X ├──────░──────────────────────────»\n     └────────────────────┘└───┘ ░      └───┘      ░                          »\n«     ┌───┐     \n«q_0: ┤ H ├─────\n«     ├───┤┌───┐\n«q_1: ┤ X ├┤ H ├\n«     └───┘└───┘\n«q_2: ──────────\n«               ",
      "text/html": "<pre style=\"word-wrap: normal;white-space: pre;background: #fff0;line-height: 1.1;font-family: &quot;Courier New&quot;,Courier,monospace\">     ┌────────────────────┐┌───┐ ░ ┌───┐     ┌───┐ ░ ┌───┐┌───┐          ┌───┐»\nq_0: ┤0                   ├┤ H ├─░─┤ X ├──■──┤ X ├─░─┤ H ├┤ X ├───────■──┤ X ├»\n     │                    │├───┤ ░ └───┘  │  └───┘ ░ ├───┤├───┤┌───┐┌─┴─┐├───┤»\nq_1: ┤1 Initialize(1,0,0) ├┤ H ├─░────────■────────░─┤ H ├┤ X ├┤ H ├┤ X ├┤ H ├»\n     │                    │├───┤ ░      ┌─┴─┐      ░ └───┘└───┘└───┘└───┘└───┘»\nq_2: ┤2                   ├┤ H ├─░──────┤ X ├──────░──────────────────────────»\n     └────────────────────┘└───┘ ░      └───┘      ░                          »\n«     ┌───┐     \n«q_0: ┤ H ├─────\n«     ├───┤┌───┐\n«q_1: ┤ X ├┤ H ├\n«     └───┘└───┘\n«q_2: ──────────\n«               </pre>"
     },
     "execution_count": 11,
     "metadata": {},
     "output_type": "execute_result"
    }
   ],
   "source": [
    "from qiskit import QuantumRegister, ClassicalRegister, QuantumCircuit, transpile\n",
    "from numpy import pi\n",
    "from qiskit.visualization import plot_histogram\n",
    "\n",
    "qreg_q = QuantumRegister(3, 'q')\n",
    "qc = QuantumCircuit(qreg_q)\n",
    "\n",
    "qc.initialize(\"100\")\n",
    "qc.h(qreg_q[1])\n",
    "qc.h(qreg_q[2])\n",
    "qc.h(qreg_q[0])\n",
    "\n",
    "qc.barrier(qreg_q[0], qreg_q[1], qreg_q[2])\n",
    "qc.x(qreg_q[0])\n",
    "qc.ccx(qreg_q[0], qreg_q[1], qreg_q[2])\n",
    "qc.x(qreg_q[0])\n",
    "\n",
    "qc.barrier(qreg_q[0], qreg_q[1], qreg_q[2])\n",
    "qc.h(qreg_q[0])\n",
    "qc.h(qreg_q[1])\n",
    "qc.x(qreg_q[0])\n",
    "qc.x(qreg_q[1])\n",
    "qc.h(qreg_q[1])\n",
    "qc.cx(qreg_q[0], qreg_q[1])\n",
    "qc.h(qreg_q[1])\n",
    "qc.x(qreg_q[1])\n",
    "qc.x(qreg_q[0])\n",
    "qc.h(qreg_q[0])\n",
    "qc.h(qreg_q[1])\n",
    "\n",
    "qc.draw()"
   ]
  },
  {
   "cell_type": "code",
   "execution_count": 12,
   "id": "78df7f2b-486a-4927-89ca-2724f1746b35",
   "metadata": {
    "colab": {
     "base_uri": "https://localhost:8080/",
     "height": 613
    },
    "id": "78df7f2b-486a-4927-89ca-2724f1746b35",
    "outputId": "019c7434-b3a5-40a6-b8b0-9fad21991362",
    "ExecuteTime": {
     "end_time": "2024-05-14T16:23:32.320228Z",
     "start_time": "2024-05-14T16:23:32.150644Z"
    }
   },
   "outputs": [
    {
     "name": "stdout",
     "output_type": "stream",
     "text": [
      "\n",
      "Statevector([-1.34692639e-17+0.j, -1.78038433e-34+0.j, -7.07106781e-01+0.j,\n",
      "              6.29457921e-18+0.j,  1.34692639e-17+0.j,  1.78038433e-34+0.j,\n",
      "              7.07106781e-01+0.j, -6.29457921e-18+0.j],\n",
      "            dims=(2, 2, 2))\n"
     ]
    },
    {
     "data": {
      "text/plain": "<Figure size 700x500 with 1 Axes>",
      "image/png": "[encoded data removed]"
     },
     "execution_count": 12,
     "metadata": {},
     "output_type": "execute_result"
    }
   ],
   "source": [
    "from qiskit.quantum_info import Statevector\n",
    "\n",
    "print()\n",
    "state = Statevector.from_instruction(qc)\n",
    "print(state)\n",
    "state.draw('latex')\n",
    "\n",
    "ideal_distribution = state.probabilities_dict()\n",
    "\n",
    "plot_histogram(ideal_distribution)"
   ]
  },
  {
   "cell_type": "markdown",
   "id": "5ffe4ead-e8e0-41de-bccb-1065706b1f5d",
   "metadata": {
    "id": "5ffe4ead-e8e0-41de-bccb-1065706b1f5d"
   },
   "source": [
    "## Zadanie 2 - Zaimplementuj algorytm Grovera  do rozwiązywania Sudoku (2 pkt)"
   ]
  },
  {
   "cell_type": "markdown",
   "id": "a8d9c3e167e4ee9f",
   "metadata": {
    "collapsed": false
   },
   "source": [
    "- plansza 2x2\n",
    "- wartości {0, 1}\n",
    "\n",
    "![](sudoku_board.png)"
   ]
  },
  {
   "cell_type": "code",
   "execution_count": 13,
   "id": "b408d718-49d9-4135-95fc-e0dc2ac075fb",
   "metadata": {
    "colab": {
     "base_uri": "https://localhost:8080/",
     "height": 125
    },
    "id": "b408d718-49d9-4135-95fc-e0dc2ac075fb",
    "outputId": "b63effdb-6452-4d24-f24f-5935121425a6",
    "ExecuteTime": {
     "end_time": "2024-05-14T16:23:32.334472Z",
     "start_time": "2024-05-14T16:23:32.321242Z"
    }
   },
   "outputs": [
    {
     "data": {
      "text/plain": "                   \ninput_0: ──■───────\n           │       \ninput_1: ──┼────■──\n         ┌─┴─┐┌─┴─┐\n output: ┤ X ├┤ X ├\n         └───┘└───┘",
      "text/html": "<pre style=\"word-wrap: normal;white-space: pre;background: #fff0;line-height: 1.1;font-family: &quot;Courier New&quot;,Courier,monospace\">                   \ninput_0: ──■───────\n           │       \ninput_1: ──┼────■──\n         ┌─┴─┐┌─┴─┐\n output: ┤ X ├┤ X ├\n         └───┘└───┘</pre>"
     },
     "execution_count": 13,
     "metadata": {},
     "output_type": "execute_result"
    }
   ],
   "source": [
    "clause_list = [[0,1],\n",
    "               [0,2],\n",
    "               [1,3],\n",
    "               [2,3]]\n",
    "\n",
    "def XOR(qc, a, b, output):\n",
    "    qc.cx(a, output)\n",
    "    qc.cx(b, output)\n",
    "\n",
    "from qiskit import QuantumRegister, AncillaRegister, QuantumCircuit, ClassicalRegister\n",
    "# We will use separate registers to name the bits\n",
    "in_qubits = QuantumRegister(2, name='input')\n",
    "out_qubit = QuantumRegister(1, name='output')\n",
    "qc = QuantumCircuit(in_qubits, out_qubit)\n",
    "XOR(qc, in_qubits[0], in_qubits[1], out_qubit)\n",
    "qc.draw()"
   ]
  },
  {
   "cell_type": "code",
   "execution_count": 14,
   "id": "7dab8485-f4cb-40da-aa1e-57fe35a4bb4b",
   "metadata": {
    "colab": {
     "base_uri": "https://localhost:8080/",
     "height": 279
    },
    "id": "7dab8485-f4cb-40da-aa1e-57fe35a4bb4b",
    "outputId": "268d0e87-a4f1-465f-b1db-27ec757296bc",
    "ExecuteTime": {
     "end_time": "2024-05-14T16:23:32.350350Z",
     "start_time": "2024-05-14T16:23:32.337486Z"
    }
   },
   "outputs": [
    {
     "data": {
      "text/plain": "                                             \nv_0: ──■─────────■───────────────────────────\n       │         │                           \nv_1: ──┼────■────┼─────────■─────────────────\n       │    │    │         │                 \nv_2: ──┼────┼────┼────■────┼─────────■───────\n       │    │    │    │    │         │       \nv_3: ──┼────┼────┼────┼────┼────■────┼────■──\n     ┌─┴─┐┌─┴─┐  │    │    │    │    │    │  \nc_0: ┤ X ├┤ X ├──┼────┼────┼────┼────┼────┼──\n     └───┘└───┘┌─┴─┐┌─┴─┐  │    │    │    │  \nc_1: ──────────┤ X ├┤ X ├──┼────┼────┼────┼──\n               └───┘└───┘┌─┴─┐┌─┴─┐  │    │  \nc_2: ────────────────────┤ X ├┤ X ├──┼────┼──\n                         └───┘└───┘┌─┴─┐┌─┴─┐\nc_3: ──────────────────────────────┤ X ├┤ X ├\n                                   └───┘└───┘",
      "text/html": "<pre style=\"word-wrap: normal;white-space: pre;background: #fff0;line-height: 1.1;font-family: &quot;Courier New&quot;,Courier,monospace\">                                             \nv_0: ──■─────────■───────────────────────────\n       │         │                           \nv_1: ──┼────■────┼─────────■─────────────────\n       │    │    │         │                 \nv_2: ──┼────┼────┼────■────┼─────────■───────\n       │    │    │    │    │         │       \nv_3: ──┼────┼────┼────┼────┼────■────┼────■──\n     ┌─┴─┐┌─┴─┐  │    │    │    │    │    │  \nc_0: ┤ X ├┤ X ├──┼────┼────┼────┼────┼────┼──\n     └───┘└───┘┌─┴─┐┌─┴─┐  │    │    │    │  \nc_1: ──────────┤ X ├┤ X ├──┼────┼────┼────┼──\n               └───┘└───┘┌─┴─┐┌─┴─┐  │    │  \nc_2: ────────────────────┤ X ├┤ X ├──┼────┼──\n                         └───┘└───┘┌─┴─┐┌─┴─┐\nc_3: ──────────────────────────────┤ X ├┤ X ├\n                                   └───┘└───┘</pre>"
     },
     "execution_count": 14,
     "metadata": {},
     "output_type": "execute_result"
    }
   ],
   "source": [
    "# Create separate registers to name bits\n",
    "var_qubits = QuantumRegister(4, name='v')  # variable bits\n",
    "clause_qubits = QuantumRegister(4, name='c')  # bits to store clause-checks\n",
    "\n",
    "# Create quantum circuit\n",
    "qc = QuantumCircuit(var_qubits, clause_qubits)\n",
    "\n",
    "# Use XOR gate to check each clause\n",
    "i = 0\n",
    "for clause in clause_list:\n",
    "    XOR(qc, clause[0], clause[1], clause_qubits[i])\n",
    "    i += 1\n",
    "\n",
    "qc.draw()"
   ]
  },
  {
   "cell_type": "code",
   "execution_count": 15,
   "id": "4b1853f0-b112-44c5-86e0-dab1126dbed3",
   "metadata": {
    "colab": {
     "base_uri": "https://localhost:8080/",
     "height": 310
    },
    "id": "4b1853f0-b112-44c5-86e0-dab1126dbed3",
    "outputId": "9e0d709f-3a2c-4224-8b55-516aef983b8c",
    "ExecuteTime": {
     "end_time": "2024-05-14T16:23:32.369244Z",
     "start_time": "2024-05-14T16:23:32.351366Z"
    }
   },
   "outputs": [
    {
     "data": {
      "text/plain": "                                                  \nv_0: ──■─────────■────────────────────────────────\n       │         │                                \nv_1: ──┼────■────┼─────────■──────────────────────\n       │    │    │         │                      \nv_2: ──┼────┼────┼────■────┼─────────■────────────\n       │    │    │    │    │         │            \nv_3: ──┼────┼────┼────┼────┼────■────┼────■───────\n     ┌─┴─┐┌─┴─┐  │    │    │    │    │    │       \nc_0: ┤ X ├┤ X ├──┼────┼────┼────┼────┼────┼────■──\n     └───┘└───┘┌─┴─┐┌─┴─┐  │    │    │    │    │  \nc_1: ──────────┤ X ├┤ X ├──┼────┼────┼────┼────■──\n               └───┘└───┘┌─┴─┐┌─┴─┐  │    │    │  \nc_2: ────────────────────┤ X ├┤ X ├──┼────┼────■──\n                         └───┘└───┘┌─┴─┐┌─┴─┐  │  \nc_3: ──────────────────────────────┤ X ├┤ X ├──■──\n                                   └───┘└───┘┌─┴─┐\nout: ────────────────────────────────────────┤ X ├\n                                             └───┘",
      "text/html": "<pre style=\"word-wrap: normal;white-space: pre;background: #fff0;line-height: 1.1;font-family: &quot;Courier New&quot;,Courier,monospace\">                                                  \nv_0: ──■─────────■────────────────────────────────\n       │         │                                \nv_1: ──┼────■────┼─────────■──────────────────────\n       │    │    │         │                      \nv_2: ──┼────┼────┼────■────┼─────────■────────────\n       │    │    │    │    │         │            \nv_3: ──┼────┼────┼────┼────┼────■────┼────■───────\n     ┌─┴─┐┌─┴─┐  │    │    │    │    │    │       \nc_0: ┤ X ├┤ X ├──┼────┼────┼────┼────┼────┼────■──\n     └───┘└───┘┌─┴─┐┌─┴─┐  │    │    │    │    │  \nc_1: ──────────┤ X ├┤ X ├──┼────┼────┼────┼────■──\n               └───┘└───┘┌─┴─┐┌─┴─┐  │    │    │  \nc_2: ────────────────────┤ X ├┤ X ├──┼────┼────■──\n                         └───┘└───┘┌─┴─┐┌─┴─┐  │  \nc_3: ──────────────────────────────┤ X ├┤ X ├──■──\n                                   └───┘└───┘┌─┴─┐\nout: ────────────────────────────────────────┤ X ├\n                                             └───┘</pre>"
     },
     "execution_count": 15,
     "metadata": {},
     "output_type": "execute_result"
    }
   ],
   "source": [
    "from qiskit.circuit.library import C4XGate\n",
    "# Create separate registers to name bits\n",
    "var_qubits = QuantumRegister(4, name='v')\n",
    "clause_qubits = QuantumRegister(4, name='c')\n",
    "output_qubit = QuantumRegister(1, name='out')\n",
    "qc = QuantumCircuit(var_qubits, clause_qubits, output_qubit)\n",
    "\n",
    "# Compute clauses\n",
    "i = 0\n",
    "for clause in clause_list:\n",
    "    XOR(qc, clause[0], clause[1], clause_qubits[i])\n",
    "    i += 1\n",
    "\n",
    "# Flip 'output' bit if all clauses are satisfied\n",
    "qc.append(C4XGate(),[clause_qubits[0], clause_qubits[1], clause_qubits[2], clause_qubits[3], output_qubit[0]])\n",
    "\n",
    "qc.draw()"
   ]
  },
  {
   "cell_type": "code",
   "execution_count": 16,
   "id": "f0525539-0d8b-43da-bce8-2574ae6f2dd3",
   "metadata": {
    "colab": {
     "base_uri": "https://localhost:8080/",
     "height": 664
    },
    "id": "f0525539-0d8b-43da-bce8-2574ae6f2dd3",
    "outputId": "7a827b57-9f57-46c5-c2dd-39a86e892e90",
    "ExecuteTime": {
     "end_time": "2024-05-14T16:23:32.393133Z",
     "start_time": "2024-05-14T16:23:32.371242Z"
    }
   },
   "outputs": [
    {
     "data": {
      "text/plain": "                                                                               »\n    v_0: ──■─────────■──────────────────────────────────■─────────■────────────»\n           │         │                                  │         │            »\n    v_1: ──┼────■────┼─────────■────────────────────────┼────■────┼─────────■──»\n           │    │    │         │                        │    │    │         │  »\n    v_2: ──┼────┼────┼────■────┼─────────■──────────────┼────┼────┼────■────┼──»\n           │    │    │    │    │         │              │    │    │    │    │  »\n    v_3: ──┼────┼────┼────┼────┼────■────┼────■─────────┼────┼────┼────┼────┼──»\n         ┌─┴─┐┌─┴─┐  │    │    │    │    │    │       ┌─┴─┐┌─┴─┐  │    │    │  »\n    c_0: ┤ X ├┤ X ├──┼────┼────┼────┼────┼────┼────■──┤ X ├┤ X ├──┼────┼────┼──»\n         └───┘└───┘┌─┴─┐┌─┴─┐  │    │    │    │    │  └───┘└───┘┌─┴─┐┌─┴─┐  │  »\n    c_1: ──────────┤ X ├┤ X ├──┼────┼────┼────┼────■────────────┤ X ├┤ X ├──┼──»\n                   └───┘└───┘┌─┴─┐┌─┴─┐  │    │    │            └───┘└───┘┌─┴─┐»\n    c_2: ────────────────────┤ X ├┤ X ├──┼────┼────■──────────────────────┤ X ├»\n                             └───┘└───┘┌─┴─┐┌─┴─┐  │                      └───┘»\n    c_3: ──────────────────────────────┤ X ├┤ X ├──■───────────────────────────»\n                                       └───┘└───┘┌─┴─┐                         »\n    out: ────────────────────────────────────────┤ X ├─────────────────────────»\n                                                 └───┘                         »\ncbits: 4/══════════════════════════════════════════════════════════════════════»\n                                                                               »\n«                        \n«    v_0: ───────────────\n«                        \n«    v_1: ───────────────\n«                        \n«    v_2: ───────■───────\n«                │       \n«    v_3: ──■────┼────■──\n«           │    │    │  \n«    c_0: ──┼────┼────┼──\n«           │    │    │  \n«    c_1: ──┼────┼────┼──\n«         ┌─┴─┐  │    │  \n«    c_2: ┤ X ├──┼────┼──\n«         └───┘┌─┴─┐┌─┴─┐\n«    c_3: ─────┤ X ├┤ X ├\n«              └───┘└───┘\n«    out: ───────────────\n«                        \n«cbits: 4/═══════════════\n«                        ",
      "text/html": "<pre style=\"word-wrap: normal;white-space: pre;background: #fff0;line-height: 1.1;font-family: &quot;Courier New&quot;,Courier,monospace\">                                                                               »\n    v_0: ──■─────────■──────────────────────────────────■─────────■────────────»\n           │         │                                  │         │            »\n    v_1: ──┼────■────┼─────────■────────────────────────┼────■────┼─────────■──»\n           │    │    │         │                        │    │    │         │  »\n    v_2: ──┼────┼────┼────■────┼─────────■──────────────┼────┼────┼────■────┼──»\n           │    │    │    │    │         │              │    │    │    │    │  »\n    v_3: ──┼────┼────┼────┼────┼────■────┼────■─────────┼────┼────┼────┼────┼──»\n         ┌─┴─┐┌─┴─┐  │    │    │    │    │    │       ┌─┴─┐┌─┴─┐  │    │    │  »\n    c_0: ┤ X ├┤ X ├──┼────┼────┼────┼────┼────┼────■──┤ X ├┤ X ├──┼────┼────┼──»\n         └───┘└───┘┌─┴─┐┌─┴─┐  │    │    │    │    │  └───┘└───┘┌─┴─┐┌─┴─┐  │  »\n    c_1: ──────────┤ X ├┤ X ├──┼────┼────┼────┼────■────────────┤ X ├┤ X ├──┼──»\n                   └───┘└───┘┌─┴─┐┌─┴─┐  │    │    │            └───┘└───┘┌─┴─┐»\n    c_2: ────────────────────┤ X ├┤ X ├──┼────┼────■──────────────────────┤ X ├»\n                             └───┘└───┘┌─┴─┐┌─┴─┐  │                      └───┘»\n    c_3: ──────────────────────────────┤ X ├┤ X ├──■───────────────────────────»\n                                       └───┘└───┘┌─┴─┐                         »\n    out: ────────────────────────────────────────┤ X ├─────────────────────────»\n                                                 └───┘                         »\ncbits: 4/══════════════════════════════════════════════════════════════════════»\n                                                                               »\n«                        \n«    v_0: ───────────────\n«                        \n«    v_1: ───────────────\n«                        \n«    v_2: ───────■───────\n«                │       \n«    v_3: ──■────┼────■──\n«           │    │    │  \n«    c_0: ──┼────┼────┼──\n«           │    │    │  \n«    c_1: ──┼────┼────┼──\n«         ┌─┴─┐  │    │  \n«    c_2: ┤ X ├──┼────┼──\n«         └───┘┌─┴─┐┌─┴─┐\n«    c_3: ─────┤ X ├┤ X ├\n«              └───┘└───┘\n«    out: ───────────────\n«                        \n«cbits: 4/═══════════════\n«                        </pre>"
     },
     "execution_count": 16,
     "metadata": {},
     "output_type": "execute_result"
    }
   ],
   "source": [
    "from qiskit.circuit.library import C4XGate\n",
    "var_qubits = QuantumRegister(4, name='v')\n",
    "clause_qubits = QuantumRegister(4, name='c')\n",
    "output_qubit = QuantumRegister(1, name='out')\n",
    "cbits = ClassicalRegister(4, name='cbits')\n",
    "qc = QuantumCircuit(var_qubits, clause_qubits, output_qubit, cbits)\n",
    "\n",
    "def sudoku_oracle(qc, clause_list, clause_qubits):\n",
    "    # Compute clauses\n",
    "    i = 0\n",
    "    for clause in clause_list:\n",
    "        XOR(qc, clause[0], clause[1], clause_qubits[i])\n",
    "        i += 1\n",
    "\n",
    "    # Flip 'output' bit if all clauses are satisfied\n",
    "    qc.append(C4XGate(),[clause_qubits[0], clause_qubits[1], clause_qubits[2], clause_qubits[3], output_qubit[0]])\n",
    "    # Uncompute clauses to reset clause-checking bits to 0\n",
    "    i = 0\n",
    "    for clause in clause_list:\n",
    "        XOR(qc, clause[0], clause[1], clause_qubits[i])\n",
    "        i += 1\n",
    "\n",
    "sudoku_oracle(qc, clause_list, clause_qubits)\n",
    "qc.draw()"
   ]
  },
  {
   "cell_type": "code",
   "execution_count": 17,
   "id": "4e8c2ee5-d021-4ccc-9e40-3f62c2bb84cb",
   "metadata": {
    "colab": {
     "base_uri": "https://localhost:8080/"
    },
    "id": "4e8c2ee5-d021-4ccc-9e40-3f62c2bb84cb",
    "outputId": "606199c9-4e35-46ef-cbe0-de802e20eb3b",
    "ExecuteTime": {
     "end_time": "2024-05-14T16:23:32.404864Z",
     "start_time": "2024-05-14T16:23:32.396146Z"
    }
   },
   "outputs": [
    {
     "data": {
      "text/plain": "2.221441469079183"
     },
     "execution_count": 17,
     "metadata": {},
     "output_type": "execute_result"
    }
   ],
   "source": [
    "# how many iterations\n",
    "from numpy import sqrt\n",
    "(pi / 4) * sqrt((2 ** 4) / 2)\n",
    "\n",
    "## 2.2 ~= 2"
   ]
  },
  {
   "cell_type": "code",
   "execution_count": 22,
   "id": "56470dfe-00b4-4c32-a2df-7c691739975a",
   "metadata": {
    "colab": {
     "base_uri": "https://localhost:8080/",
     "height": 1000
    },
    "id": "56470dfe-00b4-4c32-a2df-7c691739975a",
    "outputId": "3817a801-df0e-4c64-fedb-7596cf7b39d8",
    "ExecuteTime": {
     "end_time": "2024-05-14T16:24:13.710703Z",
     "start_time": "2024-05-14T16:24:13.669876Z"
    }
   },
   "outputs": [
    {
     "data": {
      "text/plain": "<qiskit.circuit.instructionset.InstructionSet at 0x1ac37907250>"
     },
     "execution_count": 22,
     "metadata": {},
     "output_type": "execute_result"
    }
   ],
   "source": [
    "## before start - H before every bit in v-bits\n",
    "from qiskit import QuantumRegister, ClassicalRegister, QuantumCircuit, transpile\n",
    "from numpy import pi\n",
    "from qiskit.visualization import plot_histogram\n",
    "from qiskit.circuit.library import C3XGate, C4XGate, CZGate, MCMT\n",
    "from qiskit.quantum_info import Statevector\n",
    "\n",
    "N = 4\n",
    "\n",
    "c3z = MCMT('cz',3,1)\n",
    "\n",
    "clause_list = [[0,1],\n",
    "               [0,2],\n",
    "               [1,3],\n",
    "               [2,3]]\n",
    "\n",
    "def XOR(qc, a, b, output):\n",
    "    qc.cx(a, output)\n",
    "    qc.cx(b, output)\n",
    "\n",
    "def sudoku_oracle(qc, clause_list, clause_qubits):\n",
    "    # Compute clauses\n",
    "    i = 0\n",
    "    for clause in clause_list:\n",
    "        XOR(qc, clause[0], clause[1], clause_qubits[i])\n",
    "        i += 1\n",
    "\n",
    "    # Flip 'output' bit if all clauses are satisfied\n",
    "    qc.append(C4XGate(),[clause_qubits[0], clause_qubits[1], clause_qubits[2], clause_qubits[3], output_qubit[0]])\n",
    "    # Uncompute clauses to reset clause-checking bits to 0\n",
    "    i = 0\n",
    "    for clause in clause_list:\n",
    "        XOR(qc, clause[0], clause[1], clause_qubits[i])\n",
    "        i += 1\n",
    "\n",
    "## now we need inversion - 4-bit gate with H X CZ\n",
    "def inversion(qc, var_qubits):\n",
    "    qc.barrier(var_qubits)\n",
    "    qc.h(var_qubits)\n",
    "    qc.x(var_qubits)\n",
    "    qc.h(var_qubits[len(var_qubits)-1])\n",
    "    qc.append(C3XGate(), [var_qubits[0], var_qubits[1], var_qubits[2], var_qubits[3]])\n",
    "    # qc.compose(c3z,qubits=[var_qubits[0], var_qubits[1], var_qubits[2], var_qubits[3]],inplace=True)\n",
    "    qc.h(var_qubits[len(var_qubits)-1])\n",
    "    qc.barrier(var_qubits)\n",
    "    qc.x(var_qubits)\n",
    "    qc.h(var_qubits)\n",
    "\n",
    "# Create separate registers to name bits\n",
    "var_qubits = QuantumRegister(4, name='v')  # variable bits\n",
    "clause_qubits = QuantumRegister(4, name='c')  # bits to store clause-checks\n",
    "output_qubit = QuantumRegister(1, name='out')\n",
    "cbits = ClassicalRegister(4, name='cbits')\n",
    "\n",
    "# Create quantum circuit\n",
    "qc = QuantumCircuit(var_qubits, clause_qubits, output_qubit, cbits)\n",
    "\n",
    "## before start - H before out = 1\n",
    "qc.x(output_qubit)\n",
    "qc.barrier(var_qubits[0], var_qubits[1], var_qubits[1], var_qubits[2], var_qubits[3], output_qubit)\n",
    "qc.h(output_qubit)\n",
    "\n",
    "## before start - H before every bit in v-bits\n",
    "for qubit in var_qubits:\n",
    "    qc.h(qubit)\n",
    "\n",
    "sudoku_oracle(qc, clause_list, clause_qubits)\n",
    "inversion(qc, var_qubits)\n",
    "\n",
    "sudoku_oracle(qc, clause_list, clause_qubits)\n",
    "inversion(qc, var_qubits)\n",
    "\n",
    "qc.barrier(var_qubits[0], var_qubits[1], var_qubits[1], var_qubits[2], var_qubits[3], output_qubit)"
   ]
  },
  {
   "cell_type": "code",
   "execution_count": 23,
   "id": "a4e5c878-e7df-4b93-80af-bafe8db79b97",
   "metadata": {
    "colab": {
     "base_uri": "https://localhost:8080/",
     "height": 1000
    },
    "id": "a4e5c878-e7df-4b93-80af-bafe8db79b97",
    "outputId": "a58cbfd6-a22e-4381-9021-d4d2c0362ce2",
    "ExecuteTime": {
     "end_time": "2024-05-14T16:24:17.512401Z",
     "start_time": "2024-05-14T16:24:17.479346Z"
    }
   },
   "outputs": [
    {
     "data": {
      "text/plain": "               ░ ┌───┐                                                       »\n    v_0: ──────░─┤ H ├──■─────────■──────────────────────────────────■───────»\n               ░ ├───┤  │         │                                  │       »\n    v_1: ──────░─┤ H ├──┼────■────┼─────────■────────────────────────┼────■──»\n               ░ ├───┤  │    │    │         │                        │    │  »\n    v_2: ──────░─┤ H ├──┼────┼────┼────■────┼─────────■──────────────┼────┼──»\n               ░ ├───┤  │    │    │    │    │         │              │    │  »\n    v_3: ──────░─┤ H ├──┼────┼────┼────┼────┼────■────┼────■─────────┼────┼──»\n               ░ └───┘┌─┴─┐┌─┴─┐  │    │    │    │    │    │       ┌─┴─┐┌─┴─┐»\n    c_0: ─────────────┤ X ├┤ X ├──┼────┼────┼────┼────┼────┼────■──┤ X ├┤ X ├»\n                      └───┘└───┘┌─┴─┐┌─┴─┐  │    │    │    │    │  └───┘└───┘»\n    c_1: ───────────────────────┤ X ├┤ X ├──┼────┼────┼────┼────■────────────»\n                                └───┘└───┘┌─┴─┐┌─┴─┐  │    │    │            »\n    c_2: ─────────────────────────────────┤ X ├┤ X ├──┼────┼────■────────────»\n                                          └───┘└───┘┌─┴─┐┌─┴─┐  │            »\n    c_3: ───────────────────────────────────────────┤ X ├┤ X ├──■────────────»\n         ┌───┐ ░ ┌───┐                              └───┘└───┘┌─┴─┐          »\n    out: ┤ X ├─░─┤ H ├────────────────────────────────────────┤ X ├──────────»\n         └───┘ ░ └───┘                                        └───┘          »\ncbits: 4/════════════════════════════════════════════════════════════════════»\n                                                                             »\n«                                        ░ ┌───┐┌───┐                ░ ┌───┐»\n«    v_0: ──■────────────────────────────░─┤ H ├┤ X ├───────■────────░─┤ X ├»\n«           │                            ░ ├───┤├───┤       │        ░ ├───┤»\n«    v_1: ──┼─────────■──────────────────░─┤ H ├┤ X ├───────■────────░─┤ X ├»\n«           │         │                  ░ ├───┤├───┤       │        ░ ├───┤»\n«    v_2: ──┼────■────┼─────────■────────░─┤ H ├┤ X ├───────■────────░─┤ X ├»\n«           │    │    │         │        ░ ├───┤├───┤┌───┐┌─┴─┐┌───┐ ░ ├───┤»\n«    v_3: ──┼────┼────┼────■────┼────■───░─┤ H ├┤ X ├┤ H ├┤ X ├┤ H ├─░─┤ X ├»\n«           │    │    │    │    │    │   ░ └───┘└───┘└───┘└───┘└───┘ ░ └───┘»\n«    c_0: ──┼────┼────┼────┼────┼────┼──────────────────────────────────────»\n«         ┌─┴─┐┌─┴─┐  │    │    │    │                                      »\n«    c_1: ┤ X ├┤ X ├──┼────┼────┼────┼──────────────────────────────────────»\n«         └───┘└───┘┌─┴─┐┌─┴─┐  │    │                                      »\n«    c_2: ──────────┤ X ├┤ X ├──┼────┼──────────────────────────────────────»\n«                   └───┘└───┘┌─┴─┐┌─┴─┐                                    »\n«    c_3: ────────────────────┤ X ├┤ X ├────────────────────────────────────»\n«                             └───┘└───┘                                    »\n«    out: ──────────────────────────────────────────────────────────────────»\n«                                                                           »\n«cbits: 4/══════════════════════════════════════════════════════════════════»\n«                                                                           »\n«         ┌───┐                                                            »\n«    v_0: ┤ H ├──■─────────■──────────────────────────────────■─────────■──»\n«         ├───┤  │         │                                  │         │  »\n«    v_1: ┤ H ├──┼────■────┼─────────■────────────────────────┼────■────┼──»\n«         ├───┤  │    │    │         │                        │    │    │  »\n«    v_2: ┤ H ├──┼────┼────┼────■────┼─────────■──────────────┼────┼────┼──»\n«         ├───┤  │    │    │    │    │         │              │    │    │  »\n«    v_3: ┤ H ├──┼────┼────┼────┼────┼────■────┼────■─────────┼────┼────┼──»\n«         └───┘┌─┴─┐┌─┴─┐  │    │    │    │    │    │       ┌─┴─┐┌─┴─┐  │  »\n«    c_0: ─────┤ X ├┤ X ├──┼────┼────┼────┼────┼────┼────■──┤ X ├┤ X ├──┼──»\n«              └───┘└───┘┌─┴─┐┌─┴─┐  │    │    │    │    │  └───┘└───┘┌─┴─┐»\n«    c_1: ───────────────┤ X ├┤ X ├──┼────┼────┼────┼────■────────────┤ X ├»\n«                        └───┘└───┘┌─┴─┐┌─┴─┐  │    │    │            └───┘»\n«    c_2: ─────────────────────────┤ X ├┤ X ├──┼────┼────■─────────────────»\n«                                  └───┘└───┘┌─┴─┐┌─┴─┐  │                 »\n«    c_3: ───────────────────────────────────┤ X ├┤ X ├──■─────────────────»\n«                                            └───┘└───┘┌─┴─┐               »\n«    out: ─────────────────────────────────────────────┤ X ├───────────────»\n«                                                      └───┘               »\n«cbits: 4/═════════════════════════════════════════════════════════════════»\n«                                                                          »\n«                                   ░ ┌───┐┌───┐                ░ ┌───┐┌───┐ ░ »\n«    v_0: ──────────────────────────░─┤ H ├┤ X ├───────■────────░─┤ X ├┤ H ├─░─»\n«                                   ░ ├───┤├───┤       │        ░ ├───┤├───┤ ░ »\n«    v_1: ───────■──────────────────░─┤ H ├┤ X ├───────■────────░─┤ X ├┤ H ├─░─»\n«                │                  ░ ├───┤├───┤       │        ░ ├───┤├───┤ ░ »\n«    v_2: ──■────┼─────────■────────░─┤ H ├┤ X ├───────■────────░─┤ X ├┤ H ├─░─»\n«           │    │         │        ░ ├───┤├───┤┌───┐┌─┴─┐┌───┐ ░ ├───┤├───┤ ░ »\n«    v_3: ──┼────┼────■────┼────■───░─┤ H ├┤ X ├┤ H ├┤ X ├┤ H ├─░─┤ X ├┤ H ├─░─»\n«           │    │    │    │    │   ░ └───┘└───┘└───┘└───┘└───┘ ░ └───┘└───┘ ░ »\n«    c_0: ──┼────┼────┼────┼────┼──────────────────────────────────────────────»\n«         ┌─┴─┐  │    │    │    │                                              »\n«    c_1: ┤ X ├──┼────┼────┼────┼──────────────────────────────────────────────»\n«         └───┘┌─┴─┐┌─┴─┐  │    │                                              »\n«    c_2: ─────┤ X ├┤ X ├──┼────┼──────────────────────────────────────────────»\n«              └───┘└───┘┌─┴─┐┌─┴─┐                                            »\n«    c_3: ───────────────┤ X ├┤ X ├────────────────────────────────────────────»\n«                        └───┘└───┘                                          ░ »\n«    out: ───────────────────────────────────────────────────────────────────░─»\n«                                                                            ░ »\n«cbits: 4/═════════════════════════════════════════════════════════════════════»\n«                                                                              »\n«         ┌─┐         \n«    v_0: ┤M├─────────\n«         └╥┘┌─┐      \n«    v_1: ─╫─┤M├──────\n«          ║ └╥┘┌─┐   \n«    v_2: ─╫──╫─┤M├───\n«          ║  ║ └╥┘┌─┐\n«    v_3: ─╫──╫──╫─┤M├\n«          ║  ║  ║ └╥┘\n«    c_0: ─╫──╫──╫──╫─\n«          ║  ║  ║  ║ \n«    c_1: ─╫──╫──╫──╫─\n«          ║  ║  ║  ║ \n«    c_2: ─╫──╫──╫──╫─\n«          ║  ║  ║  ║ \n«    c_3: ─╫──╫──╫──╫─\n«          ║  ║  ║  ║ \n«    out: ─╫──╫──╫──╫─\n«          ║  ║  ║  ║ \n«cbits: 4/═╩══╩══╩══╩═\n«          0  1  2  3 ",
      "text/html": "<pre style=\"word-wrap: normal;white-space: pre;background: #fff0;line-height: 1.1;font-family: &quot;Courier New&quot;,Courier,monospace\">               ░ ┌───┐                                                       »\n    v_0: ──────░─┤ H ├──■─────────■──────────────────────────────────■───────»\n               ░ ├───┤  │         │                                  │       »\n    v_1: ──────░─┤ H ├──┼────■────┼─────────■────────────────────────┼────■──»\n               ░ ├───┤  │    │    │         │                        │    │  »\n    v_2: ──────░─┤ H ├──┼────┼────┼────■────┼─────────■──────────────┼────┼──»\n               ░ ├───┤  │    │    │    │    │         │              │    │  »\n    v_3: ──────░─┤ H ├──┼────┼────┼────┼────┼────■────┼────■─────────┼────┼──»\n               ░ └───┘┌─┴─┐┌─┴─┐  │    │    │    │    │    │       ┌─┴─┐┌─┴─┐»\n    c_0: ─────────────┤ X ├┤ X ├──┼────┼────┼────┼────┼────┼────■──┤ X ├┤ X ├»\n                      └───┘└───┘┌─┴─┐┌─┴─┐  │    │    │    │    │  └───┘└───┘»\n    c_1: ───────────────────────┤ X ├┤ X ├──┼────┼────┼────┼────■────────────»\n                                └───┘└───┘┌─┴─┐┌─┴─┐  │    │    │            »\n    c_2: ─────────────────────────────────┤ X ├┤ X ├──┼────┼────■────────────»\n                                          └───┘└───┘┌─┴─┐┌─┴─┐  │            »\n    c_3: ───────────────────────────────────────────┤ X ├┤ X ├──■────────────»\n         ┌───┐ ░ ┌───┐                              └───┘└───┘┌─┴─┐          »\n    out: ┤ X ├─░─┤ H ├────────────────────────────────────────┤ X ├──────────»\n         └───┘ ░ └───┘                                        └───┘          »\ncbits: 4/════════════════════════════════════════════════════════════════════»\n                                                                             »\n«                                        ░ ┌───┐┌───┐                ░ ┌───┐»\n«    v_0: ──■────────────────────────────░─┤ H ├┤ X ├───────■────────░─┤ X ├»\n«           │                            ░ ├───┤├───┤       │        ░ ├───┤»\n«    v_1: ──┼─────────■──────────────────░─┤ H ├┤ X ├───────■────────░─┤ X ├»\n«           │         │                  ░ ├───┤├───┤       │        ░ ├───┤»\n«    v_2: ──┼────■────┼─────────■────────░─┤ H ├┤ X ├───────■────────░─┤ X ├»\n«           │    │    │         │        ░ ├───┤├───┤┌───┐┌─┴─┐┌───┐ ░ ├───┤»\n«    v_3: ──┼────┼────┼────■────┼────■───░─┤ H ├┤ X ├┤ H ├┤ X ├┤ H ├─░─┤ X ├»\n«           │    │    │    │    │    │   ░ └───┘└───┘└───┘└───┘└───┘ ░ └───┘»\n«    c_0: ──┼────┼────┼────┼────┼────┼──────────────────────────────────────»\n«         ┌─┴─┐┌─┴─┐  │    │    │    │                                      »\n«    c_1: ┤ X ├┤ X ├──┼────┼────┼────┼──────────────────────────────────────»\n«         └───┘└───┘┌─┴─┐┌─┴─┐  │    │                                      »\n«    c_2: ──────────┤ X ├┤ X ├──┼────┼──────────────────────────────────────»\n«                   └───┘└───┘┌─┴─┐┌─┴─┐                                    »\n«    c_3: ────────────────────┤ X ├┤ X ├────────────────────────────────────»\n«                             └───┘└───┘                                    »\n«    out: ──────────────────────────────────────────────────────────────────»\n«                                                                           »\n«cbits: 4/══════════════════════════════════════════════════════════════════»\n«                                                                           »\n«         ┌───┐                                                            »\n«    v_0: ┤ H ├──■─────────■──────────────────────────────────■─────────■──»\n«         ├───┤  │         │                                  │         │  »\n«    v_1: ┤ H ├──┼────■────┼─────────■────────────────────────┼────■────┼──»\n«         ├───┤  │    │    │         │                        │    │    │  »\n«    v_2: ┤ H ├──┼────┼────┼────■────┼─────────■──────────────┼────┼────┼──»\n«         ├───┤  │    │    │    │    │         │              │    │    │  »\n«    v_3: ┤ H ├──┼────┼────┼────┼────┼────■────┼────■─────────┼────┼────┼──»\n«         └───┘┌─┴─┐┌─┴─┐  │    │    │    │    │    │       ┌─┴─┐┌─┴─┐  │  »\n«    c_0: ─────┤ X ├┤ X ├──┼────┼────┼────┼────┼────┼────■──┤ X ├┤ X ├──┼──»\n«              └───┘└───┘┌─┴─┐┌─┴─┐  │    │    │    │    │  └───┘└───┘┌─┴─┐»\n«    c_1: ───────────────┤ X ├┤ X ├──┼────┼────┼────┼────■────────────┤ X ├»\n«                        └───┘└───┘┌─┴─┐┌─┴─┐  │    │    │            └───┘»\n«    c_2: ─────────────────────────┤ X ├┤ X ├──┼────┼────■─────────────────»\n«                                  └───┘└───┘┌─┴─┐┌─┴─┐  │                 »\n«    c_3: ───────────────────────────────────┤ X ├┤ X ├──■─────────────────»\n«                                            └───┘└───┘┌─┴─┐               »\n«    out: ─────────────────────────────────────────────┤ X ├───────────────»\n«                                                      └───┘               »\n«cbits: 4/═════════════════════════════════════════════════════════════════»\n«                                                                          »\n«                                   ░ ┌───┐┌───┐                ░ ┌───┐┌───┐ ░ »\n«    v_0: ──────────────────────────░─┤ H ├┤ X ├───────■────────░─┤ X ├┤ H ├─░─»\n«                                   ░ ├───┤├───┤       │        ░ ├───┤├───┤ ░ »\n«    v_1: ───────■──────────────────░─┤ H ├┤ X ├───────■────────░─┤ X ├┤ H ├─░─»\n«                │                  ░ ├───┤├───┤       │        ░ ├───┤├───┤ ░ »\n«    v_2: ──■────┼─────────■────────░─┤ H ├┤ X ├───────■────────░─┤ X ├┤ H ├─░─»\n«           │    │         │        ░ ├───┤├───┤┌───┐┌─┴─┐┌───┐ ░ ├───┤├───┤ ░ »\n«    v_3: ──┼────┼────■────┼────■───░─┤ H ├┤ X ├┤ H ├┤ X ├┤ H ├─░─┤ X ├┤ H ├─░─»\n«           │    │    │    │    │   ░ └───┘└───┘└───┘└───┘└───┘ ░ └───┘└───┘ ░ »\n«    c_0: ──┼────┼────┼────┼────┼──────────────────────────────────────────────»\n«         ┌─┴─┐  │    │    │    │                                              »\n«    c_1: ┤ X ├──┼────┼────┼────┼──────────────────────────────────────────────»\n«         └───┘┌─┴─┐┌─┴─┐  │    │                                              »\n«    c_2: ─────┤ X ├┤ X ├──┼────┼──────────────────────────────────────────────»\n«              └───┘└───┘┌─┴─┐┌─┴─┐                                            »\n«    c_3: ───────────────┤ X ├┤ X ├────────────────────────────────────────────»\n«                        └───┘└───┘                                          ░ »\n«    out: ───────────────────────────────────────────────────────────────────░─»\n«                                                                            ░ »\n«cbits: 4/═════════════════════════════════════════════════════════════════════»\n«                                                                              »\n«         ┌─┐         \n«    v_0: ┤M├─────────\n«         └╥┘┌─┐      \n«    v_1: ─╫─┤M├──────\n«          ║ └╥┘┌─┐   \n«    v_2: ─╫──╫─┤M├───\n«          ║  ║ └╥┘┌─┐\n«    v_3: ─╫──╫──╫─┤M├\n«          ║  ║  ║ └╥┘\n«    c_0: ─╫──╫──╫──╫─\n«          ║  ║  ║  ║ \n«    c_1: ─╫──╫──╫──╫─\n«          ║  ║  ║  ║ \n«    c_2: ─╫──╫──╫──╫─\n«          ║  ║  ║  ║ \n«    c_3: ─╫──╫──╫──╫─\n«          ║  ║  ║  ║ \n«    out: ─╫──╫──╫──╫─\n«          ║  ║  ║  ║ \n«cbits: 4/═╩══╩══╩══╩═\n«          0  1  2  3 </pre>"
     },
     "execution_count": 23,
     "metadata": {},
     "output_type": "execute_result"
    }
   ],
   "source": [
    "qc.measure(var_qubits, cbits)\n",
    "qc.draw()"
   ]
  },
  {
   "cell_type": "code",
   "execution_count": 25,
   "id": "b3d84de8-0796-4a22-8dae-ac0f2da79d5c",
   "metadata": {
    "id": "b3d84de8-0796-4a22-8dae-ac0f2da79d5c",
    "outputId": "07537044-bc6e-494f-efff-7570f4ed54cd",
    "ExecuteTime": {
     "end_time": "2024-05-14T16:25:24.317641Z",
     "start_time": "2024-05-14T16:25:10.136976Z"
    }
   },
   "outputs": [
    {
     "name": "stderr",
     "output_type": "stream",
     "text": [
      "C:\\Users\\przemek\\DATA\\Documents\\agh\\semestr_8\\kwantówka\\laby\\code\\.venv\\Lib\\site-packages\\qiskit_ibm_runtime\\session.py:156: UserWarning: Session is not supported in local testing mode or when using a simulator.\n",
      "  warnings.warn(\n",
      "C:\\Users\\przemek\\DATA\\Documents\\agh\\semestr_8\\kwantówka\\laby\\code\\.venv\\Lib\\site-packages\\qiskit_ibm_runtime\\qiskit_runtime_service.py:879: UserWarning: Cloud simulators have been deprecated and will be removed on 15 May 2024. Use the new local testing mode in qiskit-ibm-runtime version 0.22.0 or later to meet your debugging needs.\n",
      "  warnings.warn(warning_message)\n"
     ]
    },
    {
     "name": "stdout",
     "output_type": "stream",
     "text": [
      "SamplerResult(quasi_dists=[{14: 0.01, 6: 0.39, 2: 0.01, 0: 0.01, 9: 0.53, 12: 0.01, 5: 0.02, 8: 0.02}], metadata=[{'shots': 100, 'circuit_metadata': {}}])\n"
     ]
    },
    {
     "data": {
      "text/plain": "<Figure size 700x500 with 1 Axes>",
      "image/png": "[encoded data removed]"
     },
     "execution_count": 25,
     "metadata": {},
     "output_type": "execute_result"
    }
   ],
   "source": [
    "from qiskit_ibm_runtime import QiskitRuntimeService\n",
    "service = QiskitRuntimeService()\n",
    "\n",
    "## probabilities from simulator\n",
    "backend = service.backend('ibmq_qasm_simulator')\n",
    "\n",
    "optimization_level = 0\n",
    "t_qc = transpile(qc, backend, optimization_level=optimization_level, seed_transpiler=0)\n",
    "\n",
    "from qiskit_ibm_runtime import  Batch, Sampler\n",
    "with Batch(service=service, backend=backend):\n",
    "    sampler = Sampler()\n",
    "    job = sampler.run(circuits=[t_qc],shots=100)\n",
    "    result_sim = job.result()\n",
    "\n",
    "print(result_sim)\n",
    "plot_histogram(result_sim.quasi_dists[0].binary_probabilities())"
   ]
  }
 ],
 "metadata": {
  "colab": {
   "provenance": []
  },
  "kernelspec": {
   "display_name": "Python 3 (ipykernel)",
   "language": "python",
   "name": "python3"
  },
  "language_info": {
   "codemirror_mode": {
    "name": "ipython",
    "version": 3
   },
   "file_extension": ".py",
   "mimetype": "text/x-python",
   "name": "python",
   "nbconvert_exporter": "python",
   "pygments_lexer": "ipython3",
   "version": "3.12.0"
  }
 },
 "nbformat": 4,
 "nbformat_minor": 5
}
